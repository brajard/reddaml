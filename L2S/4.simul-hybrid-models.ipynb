{
 "cells": [
  {
   "cell_type": "markdown",
   "metadata": {},
   "source": [
    "This notebook runs the script to make a simulation of the hybrid model.\n",
    "\n",
    "<font color='red'>The outputs produced in this notebook can be checked using the notebook [check-experiment](check-experiment.ipynb) (section 5)  by setting ```fexp``` to ```config/ref_test.yml``` or ```config/ref_test_po.yml```.</font>\n"
   ]
  },
  {
   "cell_type": "markdown",
   "metadata": {},
   "source": [
    "## 1. Noisy/sparse observations\n"
   ]
  },
  {
   "cell_type": "markdown",
   "metadata": {},
   "source": [
    "The  parameters of the simulations are in configuration files:\n",
    "- ```config/model_hybrid.yml```: contains configuration of the model to run\n",
    "- ```config/paths.yml```: contains the directory of the data\n",
    "- ```config/ref_train.yml```: contains the parameters of the reference experiment used for training"
   ]
  },
  {
   "cell_type": "code",
   "execution_count": 4,
   "metadata": {},
   "outputs": [
    {
     "name": "stdout",
     "output_type": "stream",
     "text": [
      "Starting after 3.0 spinup time\n",
      "--> run a purely physical model\n",
      "Size of the full dataset:300001\n"
     ]
    },
    {
     "name": "stderr",
     "output_type": "stream",
     "text": [
      "100%|██████████| 300600/300600 [17:23<00:00, 287.95it/s] \n"
     ]
    },
    {
     "name": "stdout",
     "output_type": "stream",
     "text": [
      "File saved:\n",
      "-> /Users/brajard/Documents/recherche/papers/2020/PHILTRA/reddaml/data/L2S/simul/train/simul-truth-T1500.0-N1-seed5.npz\n",
      "-> /Users/brajard/Documents/recherche/papers/2020/PHILTRA/reddaml/data/L2S/simul/train/init-N1-seed5.npy\n"
     ]
    }
   ],
   "source": [
    "#Args for executing the script\n",
    "args= '--model ./config/model_hybrid.yml --paths ./config/paths.yml --params ./config/ref_train.yml'\n",
    "\n",
    "#Executing the script\n",
    "%run simul.py $args"
   ]
  },
  {
   "cell_type": "markdown",
   "metadata": {},
   "source": [
    "## 2. perfect observations\n"
   ]
  },
  {
   "cell_type": "markdown",
   "metadata": {},
   "source": [
    "The  parameters of the simulations are in configuration files:\n",
    "- ```config/model_hybrid.yml```: contains configuration of the model to run\n",
    "- ```config/paths.yml```: contains the directory of the data\n",
    "- ```config/ref_train_po.yml```: contains the parameters of the reference experiment used for training"
   ]
  },
  {
   "cell_type": "code",
   "execution_count": 4,
   "metadata": {},
   "outputs": [
    {
     "name": "stdout",
     "output_type": "stream",
     "text": [
      "Starting after 3.0 spinup time\n",
      "--> run a purely physical model\n",
      "Size of the full dataset:300001\n"
     ]
    },
    {
     "name": "stderr",
     "output_type": "stream",
     "text": [
      "100%|██████████| 300600/300600 [17:23<00:00, 287.95it/s] \n"
     ]
    },
    {
     "name": "stdout",
     "output_type": "stream",
     "text": [
      "File saved:\n",
      "-> /Users/brajard/Documents/recherche/papers/2020/PHILTRA/reddaml/data/L2S/simul/train/simul-truth-T1500.0-N1-seed5.npz\n",
      "-> /Users/brajard/Documents/recherche/papers/2020/PHILTRA/reddaml/data/L2S/simul/train/init-N1-seed5.npy\n"
     ]
    }
   ],
   "source": [
    "#Args for executing the script\n",
    "args= '--model ./config/model_hybrid.yml --paths ./config/paths.yml --params ./config/ref_train_po.yml'\n",
    "\n",
    "#Executing the script\n",
    "%run simul.py $args"
   ]
  }
 ],
 "metadata": {
  "kernelspec": {
   "display_name": "Python 3",
   "language": "python",
   "name": "python3"
  },
  "language_info": {
   "codemirror_mode": {
    "name": "ipython",
    "version": 3
   },
   "file_extension": ".py",
   "mimetype": "text/x-python",
   "name": "python",
   "nbconvert_exporter": "python",
   "pygments_lexer": "ipython3",
   "version": "3.7.7"
  }
 },
 "nbformat": 4,
 "nbformat_minor": 4
}
