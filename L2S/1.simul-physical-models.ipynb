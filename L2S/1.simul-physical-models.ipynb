{
 "cells": [
  {
   "cell_type": "markdown",
   "metadata": {},
   "source": [
    "This notebook runs the script to make a simulation of the phyiscal model:\n",
    "- The true simulation used for producing the observations\n",
    "- The truncated simulation used for data assimilation\n",
    "- The true/truncated simulations used for testing the results\n",
    "\n",
    "<font color='red'>The outputs produced in this notebook can be checked using the notebook [check-experiment](check-experiment.ipynb) (section 1)  by setting ```fexp``` to ```config/ref_train.yml``` or ```config/ref_test.yml```.</font>\n"
   ]
  },
  {
   "cell_type": "markdown",
   "metadata": {},
   "source": [
    "## 1. True model\n"
   ]
  },
  {
   "cell_type": "markdown",
   "metadata": {},
   "source": [
    "### 1.1 Training simulation"
   ]
  },
  {
   "cell_type": "markdown",
   "metadata": {},
   "source": [
    "The  parameters of the simulations are in configuration files:\n",
    "- ```config/model_true.yml```: contains configuration of the model to run\n",
    "- ```config/paths.yml```: contains the directory of the data\n",
    "- ```config/ref_train.yml```: contains the parameters of the reference experiment used for training"
   ]
  },
  {
   "cell_type": "code",
   "execution_count": 4,
   "metadata": {},
   "outputs": [
    {
     "name": "stdout",
     "output_type": "stream",
     "text": [
      "Starting after 3.0 spinup time\n",
      "--> run a purely physical model\n",
      "Size of the full dataset:300001\n"
     ]
    },
    {
     "name": "stderr",
     "output_type": "stream",
     "text": [
      "100%|██████████| 300600/300600 [17:23<00:00, 287.95it/s] \n"
     ]
    },
    {
     "name": "stdout",
     "output_type": "stream",
     "text": [
      "File saved:\n",
      "-> /Users/brajard/Documents/recherche/papers/2020/PHILTRA/reddaml/data/L2S/simul/train/simul-truth-T1500.0-N1-seed5.npz\n",
      "-> /Users/brajard/Documents/recherche/papers/2020/PHILTRA/reddaml/data/L2S/simul/train/init-N1-seed5.npy\n"
     ]
    }
   ],
   "source": [
    "#Args for executing the script\n",
    "args= '--model ./config/model_true.yml --paths ./config/paths.yml --params ./config/ref_train.yml'\n",
    "\n",
    "#Executing the script\n",
    "%run simul.py $args"
   ]
  },
  {
   "cell_type": "markdown",
   "metadata": {},
   "source": [
    "### 1.2 Test simulation"
   ]
  },
  {
   "cell_type": "markdown",
   "metadata": {},
   "source": [
    "The  parameters of the simulations are in configuration files:\n",
    "- ```config/model_true.yml```: contains configuration of the model to run\n",
    "- ```config/paths.yml```: contains the directory of the data\n",
    "- ```config/ref_test.yml```: contains the parameters of the reference experiment used for testing\n",
    "\n",
    "Note: the difference with the previous experiment is value of the seed (5 vs 10) and the size of the ensemble (20 vs 1)"
   ]
  },
  {
   "cell_type": "code",
   "execution_count": 7,
   "metadata": {},
   "outputs": [
    {
     "name": "stdout",
     "output_type": "stream",
     "text": [
      "Starting after 3.0 spinup time\n",
      "--> run a purely physical model\n",
      "Size of the full dataset:3001\n"
     ]
    },
    {
     "name": "stderr",
     "output_type": "stream",
     "text": [
      "100%|██████████| 3600/3600 [00:15<00:00, 232.99it/s]\n"
     ]
    },
    {
     "name": "stdout",
     "output_type": "stream",
     "text": [
      "File saved:\n",
      "-> /Users/brajard/Documents/recherche/papers/2020/PHILTRA/reddaml/data/L2S/simul/test/simul-truth-T15.0-N20-seed10.npz\n",
      "-> /Users/brajard/Documents/recherche/papers/2020/PHILTRA/reddaml/data/L2S/simul/test/init-N20-seed10.npy\n"
     ]
    }
   ],
   "source": [
    "#Args for executing the script\n",
    "args= '--model ./config/model_true.yml --paths ./config/paths.yml --params ./config/ref_test.yml'\n",
    "\n",
    "#Executing the script\n",
    "%run simul.py $args"
   ]
  },
  {
   "cell_type": "markdown",
   "metadata": {},
   "source": [
    "## 2. Truncated model\n"
   ]
  },
  {
   "cell_type": "markdown",
   "metadata": {},
   "source": [
    "### 1.1 Training simulation"
   ]
  },
  {
   "cell_type": "markdown",
   "metadata": {},
   "source": [
    "The  parameters of the simulations are in configuration files:\n",
    "- ```config/model_trunc.yml```: contains configuration of the model to run\n",
    "- ```config/paths.yml```: contains the directory of the data\n",
    "- ```config/ref_train.yml```: contains the parameters of the reference experiment used for training"
   ]
  },
  {
   "cell_type": "code",
   "execution_count": 5,
   "metadata": {},
   "outputs": [
    {
     "name": "stdout",
     "output_type": "stream",
     "text": [
      "Starting from template file /Users/brajard/Documents/recherche/papers/2020/PHILTRA/reddaml/data/L2S/simul/train/init-N{N}-seed{seed}.npy\n",
      "--> run a purely physical model\n",
      "Size of the full dataset:150001\n"
     ]
    },
    {
     "name": "stderr",
     "output_type": "stream",
     "text": [
      "100%|██████████| 150000/150000 [00:45<00:00, 3263.13it/s]\n"
     ]
    },
    {
     "name": "stdout",
     "output_type": "stream",
     "text": [
      "File saved:\n",
      "-> /Users/brajard/Documents/recherche/papers/2020/PHILTRA/reddaml/data/L2S/simul/train/simul-trunc-T1500.0-N1-seed5.npz\n"
     ]
    }
   ],
   "source": [
    "#Args for executing the script\n",
    "args= '--model ./config/model_trunc.yml --paths ./config/paths.yml --params ./config/ref_train.yml'\n",
    "\n",
    "#Executing the script\n",
    "%run simul.py $args"
   ]
  },
  {
   "cell_type": "markdown",
   "metadata": {},
   "source": [
    "### 1.2 Test simulation"
   ]
  },
  {
   "cell_type": "markdown",
   "metadata": {},
   "source": [
    "The  parameters of the simulations are in configuration files:\n",
    "- ```config/model_trunc.yml```: contains configuration of the model to run\n",
    "- ```config/paths.yml```: contains the directory of the data\n",
    "- ```config/ref_test.yml```: contains the parameters of the reference experiment used for testing\n",
    "\n",
    "Note: the difference with the previous experiment is value of the seed (5 vs 10) and the size of the ensemble (20 vs 1)"
   ]
  },
  {
   "cell_type": "code",
   "execution_count": null,
   "metadata": {},
   "outputs": [],
   "source": [
    "#Args for executing the script\n",
    "args= '--model ./config/model_trunc.yml --paths ./config/paths.yml --params ./config/ref_test.yml'\n",
    "\n",
    "#Executing the script\n",
    "%run simul.py $args"
   ]
  },
  {
   "cell_type": "code",
   "execution_count": null,
   "metadata": {},
   "outputs": [],
   "source": []
  }
 ],
 "metadata": {
  "kernelspec": {
   "display_name": "Python 3",
   "language": "python",
   "name": "python3"
  },
  "language_info": {
   "codemirror_mode": {
    "name": "ipython",
    "version": 3
   },
   "file_extension": ".py",
   "mimetype": "text/x-python",
   "name": "python",
   "nbconvert_exporter": "python",
   "pygments_lexer": "ipython3",
   "version": "3.7.7"
  }
 },
 "nbformat": 4,
 "nbformat_minor": 4
}
