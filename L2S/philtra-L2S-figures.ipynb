{
 "cells": [
  {
   "cell_type": "code",
   "execution_count": null,
   "metadata": {},
   "outputs": [],
   "source": [
    "# Load the python modules.\n",
    "import os, sys\n",
    "import numpy as np\n",
    "#Insert the common folder in the path (to be able to load python module)\n",
    "sys.path.insert(0,os.path.join(os.path.pardir,'common'))\n",
    "from toolbox import load_config, path, get_filenames\n",
    "\n"
   ]
  },
  {
   "cell_type": "code",
   "execution_count": null,
   "metadata": {},
   "outputs": [],
   "source": [
    "#List of config files used in this notebook:\n",
    "config_path = 'config/paths.yml'\n",
    "config_ftp = 'config/ftp.yml' #optional if data are generated locally\n",
    "config_ref = 'config/ref.yml'\n",
    "config_sens = 'config/sens.yml'"
   ]
  },
  {
   "cell_type": "code",
   "execution_count": null,
   "metadata": {},
   "outputs": [],
   "source": [
    "# Load the paths (yml file)\n",
    "paths = load_config('config/paths.yml')\n",
    "\n",
    "# Rootdir for the L2S data\n",
    "rootdir = path(paths['rootdir'])\n",
    "\n",
    "#Check if figdir exist and set the figdir accordingly\n",
    "savefig = 'figdir' in paths and bool(paths['figdir'])\n",
    "figdir = path(os.path.join(rootdir,paths['figdir'])) if savefig else None\n",
    "\n",
    "#Directory containing the simulations\n",
    "testdir = path(os.path.join(rootdir,paths['testdir']))"
   ]
  },
  {
   "cell_type": "code",
   "execution_count": null,
   "metadata": {},
   "outputs": [],
   "source": [
    "# FTP/LOCAL\n",
    "source = 'ftp'\n",
    "\n",
    "if source == 'ftp':\n",
    "    ftp = load_config(config_ftp)\n",
    "else:\n",
    "    ftp = None"
   ]
  },
  {
   "cell_type": "code",
   "execution_count": null,
   "metadata": {},
   "outputs": [],
   "source": [
    "# Define the reference experiment to plot\n",
    "ref = load_config(config_ref)\n"
   ]
  },
  {
   "cell_type": "code",
   "execution_count": null,
   "metadata": {},
   "outputs": [],
   "source": [
    "# Load the data of the hybrid run\n",
    "filename = get_filenames(ref)\n",
    "\n",
    "#Check if there is exactly one filename to load\n",
    "assert len(filename['hybrid']) == 1\n",
    "\n",
    "import wget\n",
    "def load_data(indir,fname,ftpurl=None,ftpdir=None,):\n",
    "    if ftp:\n",
    "        full_url = os.path.join(ftpurl,ftpdir,fname)\n",
    "        print(full_url)\n",
    "        wget.download(full_url,out=indir)\n",
    "    data = np.load(os.path.join(indir,fname))\n",
    "    return data\n",
    "\n",
    "if source == 'ftp':\n",
    "    data_simul = load_data(testdir,str(filename['hybrid'].name.iloc[0]),ftpurl=ftp['url'],ftpdir=ftp['test'])\n",
    "else:\n",
    "    data_simul = load_data(testdir,filename['hybrid'])"
   ]
  },
  {
   "cell_type": "code",
   "execution_count": null,
   "metadata": {},
   "outputs": [],
   "source": [
    "# Define the sensitivity figure\n",
    "# sens.yml"
   ]
  },
  {
   "cell_type": "code",
   "execution_count": null,
   "metadata": {},
   "outputs": [],
   "source": [
    "# Plot & save"
   ]
  },
  {
   "cell_type": "code",
   "execution_count": null,
   "metadata": {},
   "outputs": [],
   "source": [
    "len(3)"
   ]
  },
  {
   "cell_type": "code",
   "execution_count": null,
   "metadata": {},
   "outputs": [],
   "source": [
    "pname = '-p{p}-dtObs{dtObs}-std_o{std_o}-filter{Nfil_train}'\n",
    "# Simul truth:\n",
    "ftruth = 'simul/simul-fullT15-N20-seed10.npz'\n",
    "\n",
    "#Reference experiment\n",
    "ref = {\n",
    "    'p': 36,\n",
    "   'dtObs': 0.05,\n",
    "   'std_o': 0.1,\n",
    "    'Nfil_train': 3\n",
    "}\n",
    "fnn = 'trunc/simultrunc-full'+pname+'-N20-seed10.npz'\n",
    "fperfect = 'trunc/simultrunc-perfect-dtObs{dtObs}-N20-seed10.npz'\n",
    "fphys = 'trunc/simultrunc-phys-N20-seed10.npz'"
   ]
  },
  {
   "cell_type": "code",
   "execution_count": null,
   "metadata": {},
   "outputs": [],
   "source": []
  }
 ],
 "metadata": {
  "kernelspec": {
   "display_name": "Python 3",
   "language": "python",
   "name": "python3"
  },
  "language_info": {
   "codemirror_mode": {
    "name": "ipython",
    "version": 3
   },
   "file_extension": ".py",
   "mimetype": "text/x-python",
   "name": "python",
   "nbconvert_exporter": "python",
   "pygments_lexer": "ipython3",
   "version": "3.7.7"
  }
 },
 "nbformat": 4,
 "nbformat_minor": 4
}
