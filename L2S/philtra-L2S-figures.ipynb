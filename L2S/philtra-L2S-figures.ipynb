{
 "cells": [
  {
   "cell_type": "code",
   "execution_count": 1,
   "metadata": {},
   "outputs": [
    {
     "name": "stdout",
     "output_type": "stream",
     "text": [
      "Initializing DAPPER...\n",
      "\n",
      "Warning: interactive/live plotting was requested,\n",
      "but is not supported by current backend: module://ipykernel.pylab.backend_inline.\n",
      "Try another backend in your settings, e.g., mpl.use('Qt5Agg').\n",
      "...Done\n",
      "PS: Turn off this message in your configuration: dpr_config.ini\n"
     ]
    }
   ],
   "source": [
    "# Load the python modules.\n",
    "import os, sys\n",
    "import wget\n",
    "from dapper import Chronology\n",
    "#Insert the common folder in the path (to be able to load python module)\n",
    "sys.path.insert(0,os.path.join(os.path.pardir,'common'))\n",
    "from toolbox import load_config, path, get_filenames, load_data\n",
    "from l2s_utils import plot_L96_2D, default_param"
   ]
  },
  {
   "cell_type": "markdown",
   "metadata": {},
   "source": [
    "# Setting\n",
    "\n",
    "## Source of the data\n",
    "The variable ```source``` can be set to ```\"ftp\"``` or ```\"local\"```.\n",
    "- ```ftp```: it will download the data from an ftp server, so there is no need to compute the data. WARNING: it will override existing data in the data simulations data directory.\n",
    "- ```local```: it will load the data locally. So you have to first either having downloaded the data from the ftp server, either having computing the data using the other notebooks.\n",
    "\n",
    "## Configuration files\n",
    "There are 4 configuration file to set. Default configuration files are provided but if you want to make further experiment, it is possible to change the configuration file.\n",
    "- ```config_path```: contains all the paths where to load and save the data.\n",
    "- ```config_ftp```: contains the url of the data in the ftp server. This configuration file is optional if you don't download the data from ftp.\n",
    "- ```config_ref```: contains the reference simulations settings.\n",
    "- ```config_sens```: contains the different settings for an sensitivity experiment."
   ]
  },
  {
   "cell_type": "code",
   "execution_count": 2,
   "metadata": {},
   "outputs": [],
   "source": [
    "#Source of the data (comment/uncomment the lines given your choice)\n",
    "#source = 'local'\n",
    "source = 'ftp'\n"
   ]
  },
  {
   "cell_type": "code",
   "execution_count": 3,
   "metadata": {},
   "outputs": [],
   "source": [
    "#Configuration files\n",
    "config_path = 'config/paths.yml'\n",
    "config_ftp = 'config/ftp.yml' #optional if data are generated locally\n",
    "config_ref = 'config/ref.yml'\n",
    "config_sens = 'config/sens.yml'"
   ]
  },
  {
   "cell_type": "code",
   "execution_count": 4,
   "metadata": {},
   "outputs": [
    {
     "name": "stdout",
     "output_type": "stream",
     "text": [
      "Directory containing the simulations:\n",
      "-> /Users/brajard/Documents/recherche/papers/2020/PHILTRA/reddaml/data/L2S/simul/test\n",
      "Directory to save the figures:\n",
      "-> /Users/brajard/Documents/recherche/papers/2020/PHILTRA/reddaml/data/L2S/fig\n"
     ]
    }
   ],
   "source": [
    "# Load the paths (yml file)\n",
    "paths = load_config('config/paths.yml')\n",
    "\n",
    "# Rootdir for the L2S data\n",
    "rootdir = path(paths['rootdir'])\n",
    "\n",
    "#Check if figdir exist and set the figdir accordingly\n",
    "savefig = 'figdir' in paths and bool(paths['figdir'])\n",
    "figdir = path(os.path.join(rootdir,paths['figdir'])) if savefig else None\n",
    "\n",
    "#Directory containing the simulations\n",
    "testdir = path(os.path.join(rootdir,paths['testdir']))\n",
    "\n",
    "#Print:\n",
    "print(\"Directory containing the simulations:\\n->\",testdir)\n",
    "if figdir:\n",
    "    print(\"Directory to save the figures:\\n->\",figdir)"
   ]
  },
  {
   "cell_type": "code",
   "execution_count": 5,
   "metadata": {},
   "outputs": [
    {
     "name": "stdout",
     "output_type": "stream",
     "text": [
      "Warning! The source is set to ftp. \n",
      "It will override existing local simulation in the simulation directory\n"
     ]
    }
   ],
   "source": [
    "#Load the ftp configuration file if needed\n",
    "if source == 'ftp':\n",
    "    ftp = load_config(config_ftp)\n",
    "    print('\\033[93m'+'Warning! The source is set to ftp. \\nIt will override existing local simulation in the simulation directory'+'\\033[0m')\n",
    "else:\n",
    "    ftp = None"
   ]
  },
  {
   "cell_type": "markdown",
   "metadata": {},
   "source": [
    "## Plot Figure 1"
   ]
  },
  {
   "cell_type": "code",
   "execution_count": null,
   "metadata": {},
   "outputs": [],
   "source": [
    "# Define the reference experiment to plot\n",
    "ref = load_config(config_ref)\n",
    "print('Parameters of the reference experiment:\\n',ref['params'])\n",
    "print('Template names used to load the reference experiment:\\n',ref['files'])"
   ]
  },
  {
   "cell_type": "code",
   "execution_count": null,
   "metadata": {},
   "outputs": [],
   "source": [
    "# Load the data of the hybrid/true run\n",
    "filename = get_filenames(ref, default_param=default_param)\n",
    "\n",
    "#Check if there is exactly one filename to load\n",
    "assert len(filename['hybrid']) == 1\n",
    "\n",
    "\n",
    "\n",
    "if source == 'ftp':\n",
    "    ftpurl, ftpdir = ftp['url'], ftp['test']\n",
    "else:\n",
    "    ftpurl, ftpdir = None, None\n",
    "\n",
    "#Set the filename (as a str) of the data\n",
    "fname = str(filename['truth'].name.iloc[0])\n",
    "data_truth = load_data(testdir,fname,ftpurl=ftpurl,ftpdir=ftpdir)\n",
    "\n",
    "print(\"Data file truth:\\n->\",fname)\n",
    "\n",
    "fname = str(filename['hybrid'].name.iloc[0])\n",
    "data_hybrid = load_data(testdir,fname,ftpurl=ftpurl,ftpdir=ftpdir)\n",
    "\n",
    "print(\"Data file hybrid:\\n->\",fname)"
   ]
  },
  {
   "cell_type": "code",
   "execution_count": null,
   "metadata": {},
   "outputs": [],
   "source": [
    "# Format the data (the time step of the hybrid model is different from the time step of the real model)\n",
    "\n",
    "#hybrid data\n",
    "xx_hybrid = data_hybrid['xx']\n",
    "\n",
    "#chronology\n",
    "chrono_hybrid = Chronology(dkObs=1,T=data_hybrid['T'],dt=data_hybrid['dt'])\n",
    "chrono_truth = Chronology(dkObs=1,T=data_truth['T'],dt=data_truth['dt'])\n",
    "\n",
    "#Compute the time step subsample:\n",
    "dk = int(chrono_hybrid.dt/chrono_truth.dt)\n",
    "\n",
    "#Compute the size of the hybrid model stat:\n",
    "nU = xx_hybrid.shape[-1]\n",
    "\n",
    "#Subsampe the true model in space and time to fit the hybrid model space\n",
    "xx_truth = data_truth['xx'][::dk,:,:nU]\n",
    "\n",
    "#Define the time axis\n",
    "tt = chrono_hybrid.tt\n",
    "\n",
    "#Display the size of the model simulations\n",
    "print('Size of the time axis:',tt.shape)\n",
    "print('Size of the truth simulation (time step, members, space):',xx_truth.shape)\n",
    "print('Size of the hybrid simulation (time step, members, space):',xx_hybrid.shape)"
   ]
  },
  {
   "cell_type": "code",
   "execution_count": null,
   "metadata": {},
   "outputs": [],
   "source": [
    "# Plot the figure 1\n",
    "\n",
    "#Ensemble member to plot:\n",
    "iens=1\n",
    "\n",
    "#Number of time steps to plot\n",
    "limT = 500\n",
    "\n",
    "#Plot\n",
    "fig = plot_L96_2D(xx_truth[:limT,iens],xx_hybrid[:limT,iens],tt[:limT],['Truth','NN hyb.'])\n",
    "\n",
    "#Save (if needed)\n",
    "fig.savefig(os.path.join(figdir,'philtra-fig1.png'),\n",
    "            dpi=200, bbox_inches='tight', pad_inches=0)"
   ]
  },
  {
   "cell_type": "markdown",
   "metadata": {},
   "source": [
    "## Plot Figure 2"
   ]
  },
  {
   "cell_type": "code",
   "execution_count": 19,
   "metadata": {},
   "outputs": [
    {
     "name": "stdout",
     "output_type": "stream",
     "text": [
      "Parameters of the sensitivity experiment:\n",
      " {'p': [18, 27, 36], 'dtObs': [0.01, 0.05, 0.1, 0.15], 'std_o': [0.05, 0.1, 0.2, 0.5, 1.0, 2.0], 'Nfil_train': [1, 5], 'T': [15]}\n",
      "Template names used to load the reference experiment:\n",
      " {'truth': 'simul-truth-T{T}-N{N}-seed{seed}.npz', 'hybrid': 'simul-hybrid-p{p}-dtObs{dtObs}-std_o{std_o}-filter{Nfil_train}-N{N}-seed{seed}.npz', 'trunc': 'simul-trunc-T{T}-N{N}-seed{seed}.npz'}\n"
     ]
    }
   ],
   "source": [
    "sens = load_config(config_sens)\n",
    "print('Parameters of the sensitivity experiment:\\n',sens['params'])\n",
    "print('Template names used to load the reference experiment:\\n',sens['files'])\n",
    "\n",
    "#Reload ref file (in case you haven't been gone through Plot Figure 1)\n",
    "ref = load_config(config_ref)"
   ]
  },
  {
   "cell_type": "code",
   "execution_count": 7,
   "metadata": {},
   "outputs": [
    {
     "name": "stdout",
     "output_type": "stream",
     "text": [
      "ftp://ftp.nersc.no/reddaml/L2S/simul/test/simul-truth-T15.0-N20-seed10.npz\n",
      "Data file truth:\n",
      "-> simul-truth-T15.0-N20-seed10.npz\n",
      "ftp://ftp.nersc.no/reddaml/L2S/simul/test/simul-trunc-T15.0-N20-seed10.npz\n",
      "Data file trunc:\n",
      "-> simul-trunc-T15.0-N20-seed10.npz\n"
     ]
    }
   ],
   "source": [
    "# (Re)Load the data of the true/truncated run\n",
    "filename = get_filenames(sens, default_param=default_param)\n",
    "\n",
    "#Check if there is exactly one filename to load\n",
    "assert len(filename['truth']) == 1\n",
    "\n",
    "if source == 'ftp':\n",
    "    ftpurl, ftpdir = ftp['url'], ftp['test']\n",
    "else:\n",
    "    ftpurl, ftpdir = None, None\n",
    "\n",
    "#Set the filename (as a str) of the data\n",
    "fname = str(filename['truth'].name.iloc[0])\n",
    "data_truth = load_data(testdir,fname,ftpurl=ftpurl,ftpdir=ftpdir)\n",
    "\n",
    "print(\"Data file truth:\\n->\",fname)\n",
    "\n",
    "#Set the filename (as a str) of the data\n",
    "fname = str(filename['trunc'].name.iloc[0])\n",
    "data_trunc = load_data(testdir,fname,ftpurl=ftpurl,ftpdir=ftpdir)\n",
    "\n",
    "print(\"Data file trunc:\\n->\",fname)"
   ]
  },
  {
   "cell_type": "code",
   "execution_count": 8,
   "metadata": {},
   "outputs": [
    {
     "name": "stdout",
     "output_type": "stream",
     "text": [
      "Size of the time axis: (1501,)\n",
      "Size of the truth simulation (time step, members, space): (1501, 20, 36)\n",
      "Size of the trunc simulation (time step, members, space): (1501, 20, 36)\n"
     ]
    }
   ],
   "source": [
    "# Format the data (the time step of the trunc model is different from the time step of the real model)\n",
    "\n",
    "\n",
    "#Trunc data\n",
    "xx_trunc = data_trunc['xx']\n",
    "\n",
    "#chronology\n",
    "chrono_trunc = Chronology(dkObs=1,T=data_trunc['T'],dt=data_trunc['dt'])\n",
    "chrono_truth = Chronology(dkObs=1,T=data_truth['T'],dt=data_truth['dt'])\n",
    "\n",
    "#Compute the time step subsample:\n",
    "dk = int(chrono_trunc.dt/chrono_truth.dt)\n",
    "\n",
    "#Compute the size of the trunc model stat:\n",
    "nU = xx_trunc.shape[-1]\n",
    "\n",
    "#Subsampe the true model in space and time to fit the trunc model space\n",
    "xx_truth = data_truth['xx'][::dk,:,:nU]\n",
    "\n",
    "#Define the time axis\n",
    "tt = chrono_trunc.tt\n",
    "\n",
    "#Display the size of the model simulations\n",
    "print('Size of the time axis:',tt.shape)\n",
    "print('Size of the truth simulation (time step, members, space):',xx_truth.shape)\n",
    "print('Size of the trunc simulation (time step, members, space):',xx_trunc.shape)"
   ]
  },
  {
   "cell_type": "code",
   "execution_count": 10,
   "metadata": {},
   "outputs": [
    {
     "name": "stdout",
     "output_type": "stream",
     "text": [
      "ftp://ftp.nersc.no/reddaml/L2S/simul/test/simul-hybrid-p18-dtObs0.01-std_o0.05-filter1-N20-seed10.npz\n",
      "ftp://ftp.nersc.no/reddaml/L2S/simul/test/simul-hybrid-p18-dtObs0.01-std_o0.1-filter1-N20-seed10.npz\n",
      "ftp://ftp.nersc.no/reddaml/L2S/simul/test/simul-hybrid-p18-dtObs0.01-std_o0.2-filter1-N20-seed10.npz\n",
      "ftp://ftp.nersc.no/reddaml/L2S/simul/test/simul-hybrid-p18-dtObs0.01-std_o0.5-filter1-N20-seed10.npz\n",
      "ftp://ftp.nersc.no/reddaml/L2S/simul/test/simul-hybrid-p18-dtObs0.01-std_o1.0-filter1-N20-seed10.npz\n",
      "ftp://ftp.nersc.no/reddaml/L2S/simul/test/simul-hybrid-p18-dtObs0.01-std_o2.0-filter1-N20-seed10.npz\n",
      "ftp://ftp.nersc.no/reddaml/L2S/simul/test/simul-hybrid-p27-dtObs0.01-std_o0.05-filter1-N20-seed10.npz\n",
      "ftp://ftp.nersc.no/reddaml/L2S/simul/test/simul-hybrid-p27-dtObs0.01-std_o0.1-filter1-N20-seed10.npz\n",
      "ftp://ftp.nersc.no/reddaml/L2S/simul/test/simul-hybrid-p27-dtObs0.01-std_o0.2-filter1-N20-seed10.npz\n",
      "ftp://ftp.nersc.no/reddaml/L2S/simul/test/simul-hybrid-p27-dtObs0.01-std_o0.5-filter1-N20-seed10.npz\n",
      "ftp://ftp.nersc.no/reddaml/L2S/simul/test/simul-hybrid-p27-dtObs0.01-std_o1.0-filter1-N20-seed10.npz\n",
      "ftp://ftp.nersc.no/reddaml/L2S/simul/test/simul-hybrid-p27-dtObs0.01-std_o2.0-filter1-N20-seed10.npz\n",
      "ftp://ftp.nersc.no/reddaml/L2S/simul/test/simul-hybrid-p36-dtObs0.01-std_o0.05-filter1-N20-seed10.npz\n",
      "ftp://ftp.nersc.no/reddaml/L2S/simul/test/simul-hybrid-p36-dtObs0.01-std_o0.1-filter1-N20-seed10.npz\n",
      "ftp://ftp.nersc.no/reddaml/L2S/simul/test/simul-hybrid-p36-dtObs0.01-std_o0.2-filter1-N20-seed10.npz\n",
      "ftp://ftp.nersc.no/reddaml/L2S/simul/test/simul-hybrid-p36-dtObs0.01-std_o0.5-filter1-N20-seed10.npz\n",
      "ftp://ftp.nersc.no/reddaml/L2S/simul/test/simul-hybrid-p36-dtObs0.01-std_o1.0-filter1-N20-seed10.npz\n",
      "ftp://ftp.nersc.no/reddaml/L2S/simul/test/simul-hybrid-p36-dtObs0.01-std_o2.0-filter1-N20-seed10.npz\n",
      "ftp://ftp.nersc.no/reddaml/L2S/simul/test/simul-hybrid-p18-dtObs0.05-std_o0.05-filter1-N20-seed10.npz\n",
      "ftp://ftp.nersc.no/reddaml/L2S/simul/test/simul-hybrid-p18-dtObs0.05-std_o0.1-filter1-N20-seed10.npz\n",
      "ftp://ftp.nersc.no/reddaml/L2S/simul/test/simul-hybrid-p18-dtObs0.05-std_o0.2-filter1-N20-seed10.npz\n",
      "ftp://ftp.nersc.no/reddaml/L2S/simul/test/simul-hybrid-p18-dtObs0.05-std_o0.5-filter1-N20-seed10.npz\n",
      "ftp://ftp.nersc.no/reddaml/L2S/simul/test/simul-hybrid-p18-dtObs0.05-std_o1.0-filter1-N20-seed10.npz\n",
      "ftp://ftp.nersc.no/reddaml/L2S/simul/test/simul-hybrid-p18-dtObs0.05-std_o2.0-filter1-N20-seed10.npz\n",
      "ftp://ftp.nersc.no/reddaml/L2S/simul/test/simul-hybrid-p27-dtObs0.05-std_o0.05-filter1-N20-seed10.npz\n",
      "ftp://ftp.nersc.no/reddaml/L2S/simul/test/simul-hybrid-p27-dtObs0.05-std_o0.1-filter1-N20-seed10.npz\n",
      "ftp://ftp.nersc.no/reddaml/L2S/simul/test/simul-hybrid-p27-dtObs0.05-std_o0.2-filter1-N20-seed10.npz\n",
      "ftp://ftp.nersc.no/reddaml/L2S/simul/test/simul-hybrid-p27-dtObs0.05-std_o0.5-filter1-N20-seed10.npz\n",
      "ftp://ftp.nersc.no/reddaml/L2S/simul/test/simul-hybrid-p27-dtObs0.05-std_o1.0-filter1-N20-seed10.npz\n",
      "ftp://ftp.nersc.no/reddaml/L2S/simul/test/simul-hybrid-p27-dtObs0.05-std_o2.0-filter1-N20-seed10.npz\n",
      "ftp://ftp.nersc.no/reddaml/L2S/simul/test/simul-hybrid-p36-dtObs0.05-std_o0.05-filter1-N20-seed10.npz\n",
      "ftp://ftp.nersc.no/reddaml/L2S/simul/test/simul-hybrid-p36-dtObs0.05-std_o0.1-filter1-N20-seed10.npz\n",
      "ftp://ftp.nersc.no/reddaml/L2S/simul/test/simul-hybrid-p36-dtObs0.05-std_o0.2-filter1-N20-seed10.npz\n",
      "ftp://ftp.nersc.no/reddaml/L2S/simul/test/simul-hybrid-p36-dtObs0.05-std_o0.5-filter1-N20-seed10.npz\n",
      "ftp://ftp.nersc.no/reddaml/L2S/simul/test/simul-hybrid-p36-dtObs0.05-std_o1.0-filter1-N20-seed10.npz\n",
      "ftp://ftp.nersc.no/reddaml/L2S/simul/test/simul-hybrid-p36-dtObs0.05-std_o2.0-filter1-N20-seed10.npz\n",
      "ftp://ftp.nersc.no/reddaml/L2S/simul/test/simul-hybrid-p18-dtObs0.1-std_o0.05-filter1-N20-seed10.npz\n",
      "ftp://ftp.nersc.no/reddaml/L2S/simul/test/simul-hybrid-p18-dtObs0.1-std_o0.1-filter1-N20-seed10.npz\n",
      "ftp://ftp.nersc.no/reddaml/L2S/simul/test/simul-hybrid-p18-dtObs0.1-std_o0.2-filter1-N20-seed10.npz\n",
      "ftp://ftp.nersc.no/reddaml/L2S/simul/test/simul-hybrid-p18-dtObs0.1-std_o0.5-filter1-N20-seed10.npz\n",
      "ftp://ftp.nersc.no/reddaml/L2S/simul/test/simul-hybrid-p18-dtObs0.1-std_o1.0-filter1-N20-seed10.npz\n",
      "ftp://ftp.nersc.no/reddaml/L2S/simul/test/simul-hybrid-p18-dtObs0.1-std_o2.0-filter1-N20-seed10.npz\n",
      "ftp://ftp.nersc.no/reddaml/L2S/simul/test/simul-hybrid-p27-dtObs0.1-std_o0.05-filter1-N20-seed10.npz\n",
      "ftp://ftp.nersc.no/reddaml/L2S/simul/test/simul-hybrid-p27-dtObs0.1-std_o0.1-filter1-N20-seed10.npz\n",
      "ftp://ftp.nersc.no/reddaml/L2S/simul/test/simul-hybrid-p27-dtObs0.1-std_o0.2-filter1-N20-seed10.npz\n",
      "ftp://ftp.nersc.no/reddaml/L2S/simul/test/simul-hybrid-p27-dtObs0.1-std_o0.5-filter1-N20-seed10.npz\n",
      "ftp://ftp.nersc.no/reddaml/L2S/simul/test/simul-hybrid-p27-dtObs0.1-std_o1.0-filter1-N20-seed10.npz\n",
      "ftp://ftp.nersc.no/reddaml/L2S/simul/test/simul-hybrid-p27-dtObs0.1-std_o2.0-filter1-N20-seed10.npz\n",
      "ftp://ftp.nersc.no/reddaml/L2S/simul/test/simul-hybrid-p36-dtObs0.1-std_o0.05-filter1-N20-seed10.npz\n",
      "ftp://ftp.nersc.no/reddaml/L2S/simul/test/simul-hybrid-p36-dtObs0.1-std_o0.1-filter1-N20-seed10.npz\n",
      "ftp://ftp.nersc.no/reddaml/L2S/simul/test/simul-hybrid-p36-dtObs0.1-std_o0.2-filter1-N20-seed10.npz\n",
      "ftp://ftp.nersc.no/reddaml/L2S/simul/test/simul-hybrid-p36-dtObs0.1-std_o0.5-filter1-N20-seed10.npz\n",
      "ftp://ftp.nersc.no/reddaml/L2S/simul/test/simul-hybrid-p36-dtObs0.1-std_o1.0-filter1-N20-seed10.npz\n",
      "ftp://ftp.nersc.no/reddaml/L2S/simul/test/simul-hybrid-p36-dtObs0.1-std_o2.0-filter1-N20-seed10.npz\n",
      "ftp://ftp.nersc.no/reddaml/L2S/simul/test/simul-hybrid-p18-dtObs0.15-std_o0.05-filter1-N20-seed10.npz\n",
      "ftp://ftp.nersc.no/reddaml/L2S/simul/test/simul-hybrid-p18-dtObs0.15-std_o0.1-filter1-N20-seed10.npz\n",
      "ftp://ftp.nersc.no/reddaml/L2S/simul/test/simul-hybrid-p18-dtObs0.15-std_o0.2-filter1-N20-seed10.npz\n",
      "ftp://ftp.nersc.no/reddaml/L2S/simul/test/simul-hybrid-p18-dtObs0.15-std_o0.5-filter1-N20-seed10.npz\n",
      "ftp://ftp.nersc.no/reddaml/L2S/simul/test/simul-hybrid-p18-dtObs0.15-std_o1.0-filter1-N20-seed10.npz\n",
      "ftp://ftp.nersc.no/reddaml/L2S/simul/test/simul-hybrid-p18-dtObs0.15-std_o2.0-filter1-N20-seed10.npz\n",
      "ftp://ftp.nersc.no/reddaml/L2S/simul/test/simul-hybrid-p27-dtObs0.15-std_o0.05-filter1-N20-seed10.npz\n",
      "ftp://ftp.nersc.no/reddaml/L2S/simul/test/simul-hybrid-p27-dtObs0.15-std_o0.1-filter1-N20-seed10.npz\n",
      "ftp://ftp.nersc.no/reddaml/L2S/simul/test/simul-hybrid-p27-dtObs0.15-std_o0.2-filter1-N20-seed10.npz\n",
      "ftp://ftp.nersc.no/reddaml/L2S/simul/test/simul-hybrid-p27-dtObs0.15-std_o0.5-filter1-N20-seed10.npz\n",
      "ftp://ftp.nersc.no/reddaml/L2S/simul/test/simul-hybrid-p27-dtObs0.15-std_o1.0-filter1-N20-seed10.npz\n",
      "ftp://ftp.nersc.no/reddaml/L2S/simul/test/simul-hybrid-p27-dtObs0.15-std_o2.0-filter1-N20-seed10.npz\n",
      "ftp://ftp.nersc.no/reddaml/L2S/simul/test/simul-hybrid-p36-dtObs0.15-std_o0.05-filter1-N20-seed10.npz\n",
      "ftp://ftp.nersc.no/reddaml/L2S/simul/test/simul-hybrid-p36-dtObs0.15-std_o0.1-filter1-N20-seed10.npz\n",
      "ftp://ftp.nersc.no/reddaml/L2S/simul/test/simul-hybrid-p36-dtObs0.15-std_o0.2-filter1-N20-seed10.npz\n",
      "ftp://ftp.nersc.no/reddaml/L2S/simul/test/simul-hybrid-p36-dtObs0.15-std_o0.5-filter1-N20-seed10.npz\n",
      "ftp://ftp.nersc.no/reddaml/L2S/simul/test/simul-hybrid-p36-dtObs0.15-std_o1.0-filter1-N20-seed10.npz\n",
      "ftp://ftp.nersc.no/reddaml/L2S/simul/test/simul-hybrid-p36-dtObs0.15-std_o2.0-filter1-N20-seed10.npz\n",
      "ftp://ftp.nersc.no/reddaml/L2S/simul/test/simul-hybrid-p18-dtObs0.01-std_o0.05-filter5-N20-seed10.npz\n",
      "ftp://ftp.nersc.no/reddaml/L2S/simul/test/simul-hybrid-p18-dtObs0.01-std_o0.1-filter5-N20-seed10.npz\n",
      "ftp://ftp.nersc.no/reddaml/L2S/simul/test/simul-hybrid-p18-dtObs0.01-std_o0.2-filter5-N20-seed10.npz\n",
      "ftp://ftp.nersc.no/reddaml/L2S/simul/test/simul-hybrid-p18-dtObs0.01-std_o0.5-filter5-N20-seed10.npz\n",
      "ftp://ftp.nersc.no/reddaml/L2S/simul/test/simul-hybrid-p18-dtObs0.01-std_o1.0-filter5-N20-seed10.npz\n",
      "ftp://ftp.nersc.no/reddaml/L2S/simul/test/simul-hybrid-p18-dtObs0.01-std_o2.0-filter5-N20-seed10.npz\n",
      "ftp://ftp.nersc.no/reddaml/L2S/simul/test/simul-hybrid-p27-dtObs0.01-std_o0.05-filter5-N20-seed10.npz\n",
      "ftp://ftp.nersc.no/reddaml/L2S/simul/test/simul-hybrid-p27-dtObs0.01-std_o0.1-filter5-N20-seed10.npz\n",
      "ftp://ftp.nersc.no/reddaml/L2S/simul/test/simul-hybrid-p27-dtObs0.01-std_o0.2-filter5-N20-seed10.npz\n"
     ]
    },
    {
     "name": "stdout",
     "output_type": "stream",
     "text": [
      "ftp://ftp.nersc.no/reddaml/L2S/simul/test/simul-hybrid-p27-dtObs0.01-std_o0.5-filter5-N20-seed10.npz\n",
      "ftp://ftp.nersc.no/reddaml/L2S/simul/test/simul-hybrid-p27-dtObs0.01-std_o1.0-filter5-N20-seed10.npz\n",
      "ftp://ftp.nersc.no/reddaml/L2S/simul/test/simul-hybrid-p27-dtObs0.01-std_o2.0-filter5-N20-seed10.npz\n",
      "ftp://ftp.nersc.no/reddaml/L2S/simul/test/simul-hybrid-p36-dtObs0.01-std_o0.05-filter5-N20-seed10.npz\n",
      "ftp://ftp.nersc.no/reddaml/L2S/simul/test/simul-hybrid-p36-dtObs0.01-std_o0.1-filter5-N20-seed10.npz\n",
      "ftp://ftp.nersc.no/reddaml/L2S/simul/test/simul-hybrid-p36-dtObs0.01-std_o0.2-filter5-N20-seed10.npz\n",
      "ftp://ftp.nersc.no/reddaml/L2S/simul/test/simul-hybrid-p36-dtObs0.01-std_o0.5-filter5-N20-seed10.npz\n",
      "ftp://ftp.nersc.no/reddaml/L2S/simul/test/simul-hybrid-p36-dtObs0.01-std_o1.0-filter5-N20-seed10.npz\n",
      "ftp://ftp.nersc.no/reddaml/L2S/simul/test/simul-hybrid-p36-dtObs0.01-std_o2.0-filter5-N20-seed10.npz\n",
      "ftp://ftp.nersc.no/reddaml/L2S/simul/test/simul-hybrid-p18-dtObs0.05-std_o0.05-filter5-N20-seed10.npz\n",
      "ftp://ftp.nersc.no/reddaml/L2S/simul/test/simul-hybrid-p18-dtObs0.05-std_o0.1-filter5-N20-seed10.npz\n",
      "ftp://ftp.nersc.no/reddaml/L2S/simul/test/simul-hybrid-p18-dtObs0.05-std_o0.2-filter5-N20-seed10.npz\n",
      "ftp://ftp.nersc.no/reddaml/L2S/simul/test/simul-hybrid-p18-dtObs0.05-std_o0.5-filter5-N20-seed10.npz\n",
      "ftp://ftp.nersc.no/reddaml/L2S/simul/test/simul-hybrid-p18-dtObs0.05-std_o1.0-filter5-N20-seed10.npz\n",
      "ftp://ftp.nersc.no/reddaml/L2S/simul/test/simul-hybrid-p18-dtObs0.05-std_o2.0-filter5-N20-seed10.npz\n",
      "ftp://ftp.nersc.no/reddaml/L2S/simul/test/simul-hybrid-p27-dtObs0.05-std_o0.05-filter5-N20-seed10.npz\n",
      "ftp://ftp.nersc.no/reddaml/L2S/simul/test/simul-hybrid-p27-dtObs0.05-std_o0.1-filter5-N20-seed10.npz\n",
      "ftp://ftp.nersc.no/reddaml/L2S/simul/test/simul-hybrid-p27-dtObs0.05-std_o0.2-filter5-N20-seed10.npz\n",
      "ftp://ftp.nersc.no/reddaml/L2S/simul/test/simul-hybrid-p27-dtObs0.05-std_o0.5-filter5-N20-seed10.npz\n",
      "ftp://ftp.nersc.no/reddaml/L2S/simul/test/simul-hybrid-p27-dtObs0.05-std_o1.0-filter5-N20-seed10.npz\n",
      "ftp://ftp.nersc.no/reddaml/L2S/simul/test/simul-hybrid-p27-dtObs0.05-std_o2.0-filter5-N20-seed10.npz\n",
      "ftp://ftp.nersc.no/reddaml/L2S/simul/test/simul-hybrid-p36-dtObs0.05-std_o0.05-filter5-N20-seed10.npz\n",
      "ftp://ftp.nersc.no/reddaml/L2S/simul/test/simul-hybrid-p36-dtObs0.05-std_o0.1-filter5-N20-seed10.npz\n",
      "ftp://ftp.nersc.no/reddaml/L2S/simul/test/simul-hybrid-p36-dtObs0.05-std_o0.2-filter5-N20-seed10.npz\n",
      "ftp://ftp.nersc.no/reddaml/L2S/simul/test/simul-hybrid-p36-dtObs0.05-std_o0.5-filter5-N20-seed10.npz\n",
      "ftp://ftp.nersc.no/reddaml/L2S/simul/test/simul-hybrid-p36-dtObs0.05-std_o1.0-filter5-N20-seed10.npz\n",
      "ftp://ftp.nersc.no/reddaml/L2S/simul/test/simul-hybrid-p36-dtObs0.05-std_o2.0-filter5-N20-seed10.npz\n",
      "ftp://ftp.nersc.no/reddaml/L2S/simul/test/simul-hybrid-p18-dtObs0.1-std_o0.05-filter5-N20-seed10.npz\n",
      "ftp://ftp.nersc.no/reddaml/L2S/simul/test/simul-hybrid-p18-dtObs0.1-std_o0.1-filter5-N20-seed10.npz\n",
      "ftp://ftp.nersc.no/reddaml/L2S/simul/test/simul-hybrid-p18-dtObs0.1-std_o0.2-filter5-N20-seed10.npz\n",
      "ftp://ftp.nersc.no/reddaml/L2S/simul/test/simul-hybrid-p18-dtObs0.1-std_o0.5-filter5-N20-seed10.npz\n",
      "ftp://ftp.nersc.no/reddaml/L2S/simul/test/simul-hybrid-p18-dtObs0.1-std_o1.0-filter5-N20-seed10.npz\n",
      "ftp://ftp.nersc.no/reddaml/L2S/simul/test/simul-hybrid-p18-dtObs0.1-std_o2.0-filter5-N20-seed10.npz\n",
      "ftp://ftp.nersc.no/reddaml/L2S/simul/test/simul-hybrid-p27-dtObs0.1-std_o0.05-filter5-N20-seed10.npz\n",
      "ftp://ftp.nersc.no/reddaml/L2S/simul/test/simul-hybrid-p27-dtObs0.1-std_o0.1-filter5-N20-seed10.npz\n",
      "ftp://ftp.nersc.no/reddaml/L2S/simul/test/simul-hybrid-p27-dtObs0.1-std_o0.2-filter5-N20-seed10.npz\n",
      "ftp://ftp.nersc.no/reddaml/L2S/simul/test/simul-hybrid-p27-dtObs0.1-std_o0.5-filter5-N20-seed10.npz\n",
      "ftp://ftp.nersc.no/reddaml/L2S/simul/test/simul-hybrid-p27-dtObs0.1-std_o1.0-filter5-N20-seed10.npz\n",
      "ftp://ftp.nersc.no/reddaml/L2S/simul/test/simul-hybrid-p27-dtObs0.1-std_o2.0-filter5-N20-seed10.npz\n",
      "ftp://ftp.nersc.no/reddaml/L2S/simul/test/simul-hybrid-p36-dtObs0.1-std_o0.05-filter5-N20-seed10.npz\n",
      "ftp://ftp.nersc.no/reddaml/L2S/simul/test/simul-hybrid-p36-dtObs0.1-std_o0.1-filter5-N20-seed10.npz\n",
      "ftp://ftp.nersc.no/reddaml/L2S/simul/test/simul-hybrid-p36-dtObs0.1-std_o0.2-filter5-N20-seed10.npz\n",
      "ftp://ftp.nersc.no/reddaml/L2S/simul/test/simul-hybrid-p36-dtObs0.1-std_o0.5-filter5-N20-seed10.npz\n",
      "ftp://ftp.nersc.no/reddaml/L2S/simul/test/simul-hybrid-p36-dtObs0.1-std_o1.0-filter5-N20-seed10.npz\n",
      "ftp://ftp.nersc.no/reddaml/L2S/simul/test/simul-hybrid-p36-dtObs0.1-std_o2.0-filter5-N20-seed10.npz\n",
      "ftp://ftp.nersc.no/reddaml/L2S/simul/test/simul-hybrid-p18-dtObs0.15-std_o0.05-filter5-N20-seed10.npz\n",
      "ftp://ftp.nersc.no/reddaml/L2S/simul/test/simul-hybrid-p18-dtObs0.15-std_o0.1-filter5-N20-seed10.npz\n",
      "ftp://ftp.nersc.no/reddaml/L2S/simul/test/simul-hybrid-p18-dtObs0.15-std_o0.2-filter5-N20-seed10.npz\n",
      "ftp://ftp.nersc.no/reddaml/L2S/simul/test/simul-hybrid-p18-dtObs0.15-std_o0.5-filter5-N20-seed10.npz\n",
      "ftp://ftp.nersc.no/reddaml/L2S/simul/test/simul-hybrid-p18-dtObs0.15-std_o1.0-filter5-N20-seed10.npz\n",
      "ftp://ftp.nersc.no/reddaml/L2S/simul/test/simul-hybrid-p18-dtObs0.15-std_o2.0-filter5-N20-seed10.npz\n",
      "ftp://ftp.nersc.no/reddaml/L2S/simul/test/simul-hybrid-p27-dtObs0.15-std_o0.05-filter5-N20-seed10.npz\n",
      "ftp://ftp.nersc.no/reddaml/L2S/simul/test/simul-hybrid-p27-dtObs0.15-std_o0.1-filter5-N20-seed10.npz\n",
      "ftp://ftp.nersc.no/reddaml/L2S/simul/test/simul-hybrid-p27-dtObs0.15-std_o0.2-filter5-N20-seed10.npz\n",
      "ftp://ftp.nersc.no/reddaml/L2S/simul/test/simul-hybrid-p27-dtObs0.15-std_o0.5-filter5-N20-seed10.npz\n",
      "ftp://ftp.nersc.no/reddaml/L2S/simul/test/simul-hybrid-p27-dtObs0.15-std_o1.0-filter5-N20-seed10.npz\n",
      "ftp://ftp.nersc.no/reddaml/L2S/simul/test/simul-hybrid-p27-dtObs0.15-std_o2.0-filter5-N20-seed10.npz\n",
      "ftp://ftp.nersc.no/reddaml/L2S/simul/test/simul-hybrid-p36-dtObs0.15-std_o0.05-filter5-N20-seed10.npz\n",
      "ftp://ftp.nersc.no/reddaml/L2S/simul/test/simul-hybrid-p36-dtObs0.15-std_o0.1-filter5-N20-seed10.npz\n",
      "ftp://ftp.nersc.no/reddaml/L2S/simul/test/simul-hybrid-p36-dtObs0.15-std_o0.2-filter5-N20-seed10.npz\n",
      "ftp://ftp.nersc.no/reddaml/L2S/simul/test/simul-hybrid-p36-dtObs0.15-std_o0.5-filter5-N20-seed10.npz\n",
      "ftp://ftp.nersc.no/reddaml/L2S/simul/test/simul-hybrid-p36-dtObs0.15-std_o1.0-filter5-N20-seed10.npz\n",
      "ftp://ftp.nersc.no/reddaml/L2S/simul/test/simul-hybrid-p36-dtObs0.15-std_o2.0-filter5-N20-seed10.npz\n"
     ]
    }
   ],
   "source": [
    "#Download the file from ftp if needed\n",
    "if ftp:\n",
    "    for name in filename['hybrid'].name:\n",
    "        print(os.path.join(ftpurl,ftpdir,name))\n",
    "        wget.download(os.path.join(ftpurl,ftpdir,name),out=testdir)\n"
   ]
  },
  {
   "cell_type": "code",
   "execution_count": 33,
   "metadata": {},
   "outputs": [],
   "source": [
    "# Compute the score between the true field and a list of name\n",
    "import numpy as np\n",
    "def rmse_norm(pred, ref, axis=(1,2)):\n",
    "    norm = 2*np.var(ref)\n",
    "    SE = np.square(pred-ref)/norm\n",
    "    return np.sqrt(np.mean(SE,axis=axis))\n",
    "\n",
    "def score(df,xx_truth,indir,it=200,fun_score=rmse_norm,col_file='name'):\n",
    "    def compute_score(row):\n",
    "        fname = str(row[col_file])\n",
    "        data = load_data(indir,fname)\n",
    "        xx_est = data['xx']\n",
    "        score = float(rmse_norm(xx_truth[it:it+1],xx_est[it:it+1]))\n",
    "        return score\n",
    "    return df.apply(compute_score, axis = 1)\n",
    "\n",
    "def score_bis(df,xx_truth,indir,it=200,fun_score=rmse_norm,col_file='name'):\n",
    "    def compute_score(row):\n",
    "        fname = str(row[col_file])\n",
    "        data = load_data(indir,fname)\n",
    "        xx_est = data['xx']\n",
    "        score = float(rmse_norm(xx_truth,xx_est))\n",
    "        return score\n",
    "    return df.apply(compute_score, axis = 1)"
   ]
  },
  {
   "cell_type": "code",
   "execution_count": 34,
   "metadata": {},
   "outputs": [
    {
     "ename": "TypeError",
     "evalue": "only size-1 arrays can be converted to Python scalars",
     "output_type": "error",
     "traceback": [
      "\u001b[0;31m---------------------------------------------------------------------------\u001b[0m",
      "\u001b[0;31mTypeError\u001b[0m                                 Traceback (most recent call last)",
      "\u001b[0;32m<ipython-input-34-4a35cb405ad3>\u001b[0m in \u001b[0;36m<module>\u001b[0;34m\u001b[0m\n\u001b[1;32m      1\u001b[0m \u001b[0mfilename\u001b[0m\u001b[0;34m[\u001b[0m\u001b[0;34m'hybrid'\u001b[0m\u001b[0;34m]\u001b[0m\u001b[0;34m[\u001b[0m\u001b[0;34m'R-RMSE'\u001b[0m\u001b[0;34m]\u001b[0m \u001b[0;34m=\u001b[0m \u001b[0mscore\u001b[0m\u001b[0;34m(\u001b[0m\u001b[0mfilename\u001b[0m\u001b[0;34m[\u001b[0m\u001b[0;34m'hybrid'\u001b[0m\u001b[0;34m]\u001b[0m\u001b[0;34m,\u001b[0m\u001b[0mxx_truth\u001b[0m\u001b[0;34m,\u001b[0m\u001b[0mtestdir\u001b[0m\u001b[0;34m)\u001b[0m\u001b[0;34m\u001b[0m\u001b[0;34m\u001b[0m\u001b[0m\n\u001b[0;32m----> 2\u001b[0;31m \u001b[0mscore_bis\u001b[0m\u001b[0;34m(\u001b[0m\u001b[0mfilename\u001b[0m\u001b[0;34m[\u001b[0m\u001b[0;34m'hybrid'\u001b[0m\u001b[0;34m]\u001b[0m\u001b[0;34m,\u001b[0m\u001b[0mxx_truth\u001b[0m\u001b[0;34m,\u001b[0m\u001b[0mtestdir\u001b[0m\u001b[0;34m)\u001b[0m\u001b[0;34m\u001b[0m\u001b[0;34m\u001b[0m\u001b[0m\n\u001b[0m",
      "\u001b[0;32m<ipython-input-33-c3bc2ffc58af>\u001b[0m in \u001b[0;36mscore_bis\u001b[0;34m(df, xx_truth, indir, it, fun_score, col_file)\u001b[0m\n\u001b[1;32m     22\u001b[0m         \u001b[0mscore\u001b[0m \u001b[0;34m=\u001b[0m \u001b[0mfloat\u001b[0m\u001b[0;34m(\u001b[0m\u001b[0mrmse_norm\u001b[0m\u001b[0;34m(\u001b[0m\u001b[0mxx_truth\u001b[0m\u001b[0;34m,\u001b[0m\u001b[0mxx_est\u001b[0m\u001b[0;34m)\u001b[0m\u001b[0;34m)\u001b[0m\u001b[0;34m\u001b[0m\u001b[0;34m\u001b[0m\u001b[0m\n\u001b[1;32m     23\u001b[0m         \u001b[0;32mreturn\u001b[0m \u001b[0mscore\u001b[0m\u001b[0;34m\u001b[0m\u001b[0;34m\u001b[0m\u001b[0m\n\u001b[0;32m---> 24\u001b[0;31m     \u001b[0;32mreturn\u001b[0m \u001b[0mdf\u001b[0m\u001b[0;34m.\u001b[0m\u001b[0mapply\u001b[0m\u001b[0;34m(\u001b[0m\u001b[0mcompute_score\u001b[0m\u001b[0;34m,\u001b[0m \u001b[0maxis\u001b[0m \u001b[0;34m=\u001b[0m \u001b[0;36m1\u001b[0m\u001b[0;34m)\u001b[0m\u001b[0;34m\u001b[0m\u001b[0;34m\u001b[0m\u001b[0m\n\u001b[0m",
      "\u001b[0;32m~/Documents/recherche/papers/2020/PHILTRA/reddaml/venv/lib/python3.7/site-packages/pandas/core/frame.py\u001b[0m in \u001b[0;36mapply\u001b[0;34m(self, func, axis, raw, result_type, args, **kwds)\u001b[0m\n\u001b[1;32m   7539\u001b[0m             \u001b[0mkwds\u001b[0m\u001b[0;34m=\u001b[0m\u001b[0mkwds\u001b[0m\u001b[0;34m,\u001b[0m\u001b[0;34m\u001b[0m\u001b[0;34m\u001b[0m\u001b[0m\n\u001b[1;32m   7540\u001b[0m         )\n\u001b[0;32m-> 7541\u001b[0;31m         \u001b[0;32mreturn\u001b[0m \u001b[0mop\u001b[0m\u001b[0;34m.\u001b[0m\u001b[0mget_result\u001b[0m\u001b[0;34m(\u001b[0m\u001b[0;34m)\u001b[0m\u001b[0;34m\u001b[0m\u001b[0;34m\u001b[0m\u001b[0m\n\u001b[0m\u001b[1;32m   7542\u001b[0m \u001b[0;34m\u001b[0m\u001b[0m\n\u001b[1;32m   7543\u001b[0m     \u001b[0;32mdef\u001b[0m \u001b[0mapplymap\u001b[0m\u001b[0;34m(\u001b[0m\u001b[0mself\u001b[0m\u001b[0;34m,\u001b[0m \u001b[0mfunc\u001b[0m\u001b[0;34m)\u001b[0m \u001b[0;34m->\u001b[0m \u001b[0;34m\"DataFrame\"\u001b[0m\u001b[0;34m:\u001b[0m\u001b[0;34m\u001b[0m\u001b[0;34m\u001b[0m\u001b[0m\n",
      "\u001b[0;32m~/Documents/recherche/papers/2020/PHILTRA/reddaml/venv/lib/python3.7/site-packages/pandas/core/apply.py\u001b[0m in \u001b[0;36mget_result\u001b[0;34m(self)\u001b[0m\n\u001b[1;32m    178\u001b[0m             \u001b[0;32mreturn\u001b[0m \u001b[0mself\u001b[0m\u001b[0;34m.\u001b[0m\u001b[0mapply_raw\u001b[0m\u001b[0;34m(\u001b[0m\u001b[0;34m)\u001b[0m\u001b[0;34m\u001b[0m\u001b[0;34m\u001b[0m\u001b[0m\n\u001b[1;32m    179\u001b[0m \u001b[0;34m\u001b[0m\u001b[0m\n\u001b[0;32m--> 180\u001b[0;31m         \u001b[0;32mreturn\u001b[0m \u001b[0mself\u001b[0m\u001b[0;34m.\u001b[0m\u001b[0mapply_standard\u001b[0m\u001b[0;34m(\u001b[0m\u001b[0;34m)\u001b[0m\u001b[0;34m\u001b[0m\u001b[0;34m\u001b[0m\u001b[0m\n\u001b[0m\u001b[1;32m    181\u001b[0m \u001b[0;34m\u001b[0m\u001b[0m\n\u001b[1;32m    182\u001b[0m     \u001b[0;32mdef\u001b[0m \u001b[0mapply_empty_result\u001b[0m\u001b[0;34m(\u001b[0m\u001b[0mself\u001b[0m\u001b[0;34m)\u001b[0m\u001b[0;34m:\u001b[0m\u001b[0;34m\u001b[0m\u001b[0;34m\u001b[0m\u001b[0m\n",
      "\u001b[0;32m~/Documents/recherche/papers/2020/PHILTRA/reddaml/venv/lib/python3.7/site-packages/pandas/core/apply.py\u001b[0m in \u001b[0;36mapply_standard\u001b[0;34m(self)\u001b[0m\n\u001b[1;32m    253\u001b[0m \u001b[0;34m\u001b[0m\u001b[0m\n\u001b[1;32m    254\u001b[0m     \u001b[0;32mdef\u001b[0m \u001b[0mapply_standard\u001b[0m\u001b[0;34m(\u001b[0m\u001b[0mself\u001b[0m\u001b[0;34m)\u001b[0m\u001b[0;34m:\u001b[0m\u001b[0;34m\u001b[0m\u001b[0;34m\u001b[0m\u001b[0m\n\u001b[0;32m--> 255\u001b[0;31m         \u001b[0mresults\u001b[0m\u001b[0;34m,\u001b[0m \u001b[0mres_index\u001b[0m \u001b[0;34m=\u001b[0m \u001b[0mself\u001b[0m\u001b[0;34m.\u001b[0m\u001b[0mapply_series_generator\u001b[0m\u001b[0;34m(\u001b[0m\u001b[0;34m)\u001b[0m\u001b[0;34m\u001b[0m\u001b[0;34m\u001b[0m\u001b[0m\n\u001b[0m\u001b[1;32m    256\u001b[0m \u001b[0;34m\u001b[0m\u001b[0m\n\u001b[1;32m    257\u001b[0m         \u001b[0;31m# wrap results\u001b[0m\u001b[0;34m\u001b[0m\u001b[0;34m\u001b[0m\u001b[0;34m\u001b[0m\u001b[0m\n",
      "\u001b[0;32m~/Documents/recherche/papers/2020/PHILTRA/reddaml/venv/lib/python3.7/site-packages/pandas/core/apply.py\u001b[0m in \u001b[0;36mapply_series_generator\u001b[0;34m(self)\u001b[0m\n\u001b[1;32m    282\u001b[0m                 \u001b[0;32mfor\u001b[0m \u001b[0mi\u001b[0m\u001b[0;34m,\u001b[0m \u001b[0mv\u001b[0m \u001b[0;32min\u001b[0m \u001b[0menumerate\u001b[0m\u001b[0;34m(\u001b[0m\u001b[0mseries_gen\u001b[0m\u001b[0;34m)\u001b[0m\u001b[0;34m:\u001b[0m\u001b[0;34m\u001b[0m\u001b[0;34m\u001b[0m\u001b[0m\n\u001b[1;32m    283\u001b[0m                     \u001b[0;31m# ignore SettingWithCopy here in case the user mutates\u001b[0m\u001b[0;34m\u001b[0m\u001b[0;34m\u001b[0m\u001b[0;34m\u001b[0m\u001b[0m\n\u001b[0;32m--> 284\u001b[0;31m                     \u001b[0mresults\u001b[0m\u001b[0;34m[\u001b[0m\u001b[0mi\u001b[0m\u001b[0;34m]\u001b[0m \u001b[0;34m=\u001b[0m \u001b[0mself\u001b[0m\u001b[0;34m.\u001b[0m\u001b[0mf\u001b[0m\u001b[0;34m(\u001b[0m\u001b[0mv\u001b[0m\u001b[0;34m)\u001b[0m\u001b[0;34m\u001b[0m\u001b[0;34m\u001b[0m\u001b[0m\n\u001b[0m\u001b[1;32m    285\u001b[0m                     \u001b[0;32mif\u001b[0m \u001b[0misinstance\u001b[0m\u001b[0;34m(\u001b[0m\u001b[0mresults\u001b[0m\u001b[0;34m[\u001b[0m\u001b[0mi\u001b[0m\u001b[0;34m]\u001b[0m\u001b[0;34m,\u001b[0m \u001b[0mABCSeries\u001b[0m\u001b[0;34m)\u001b[0m\u001b[0;34m:\u001b[0m\u001b[0;34m\u001b[0m\u001b[0;34m\u001b[0m\u001b[0m\n\u001b[1;32m    286\u001b[0m                         \u001b[0;31m# If we have a view on v, we need to make a copy because\u001b[0m\u001b[0;34m\u001b[0m\u001b[0;34m\u001b[0m\u001b[0;34m\u001b[0m\u001b[0m\n",
      "\u001b[0;32m<ipython-input-33-c3bc2ffc58af>\u001b[0m in \u001b[0;36mcompute_score\u001b[0;34m(row)\u001b[0m\n\u001b[1;32m     20\u001b[0m         \u001b[0mdata\u001b[0m \u001b[0;34m=\u001b[0m \u001b[0mload_data\u001b[0m\u001b[0;34m(\u001b[0m\u001b[0mindir\u001b[0m\u001b[0;34m,\u001b[0m\u001b[0mfname\u001b[0m\u001b[0;34m)\u001b[0m\u001b[0;34m\u001b[0m\u001b[0;34m\u001b[0m\u001b[0m\n\u001b[1;32m     21\u001b[0m         \u001b[0mxx_est\u001b[0m \u001b[0;34m=\u001b[0m \u001b[0mdata\u001b[0m\u001b[0;34m[\u001b[0m\u001b[0;34m'xx'\u001b[0m\u001b[0;34m]\u001b[0m\u001b[0;34m\u001b[0m\u001b[0;34m\u001b[0m\u001b[0m\n\u001b[0;32m---> 22\u001b[0;31m         \u001b[0mscore\u001b[0m \u001b[0;34m=\u001b[0m \u001b[0mfloat\u001b[0m\u001b[0;34m(\u001b[0m\u001b[0mrmse_norm\u001b[0m\u001b[0;34m(\u001b[0m\u001b[0mxx_truth\u001b[0m\u001b[0;34m,\u001b[0m\u001b[0mxx_est\u001b[0m\u001b[0;34m)\u001b[0m\u001b[0;34m)\u001b[0m\u001b[0;34m\u001b[0m\u001b[0;34m\u001b[0m\u001b[0m\n\u001b[0m\u001b[1;32m     23\u001b[0m         \u001b[0;32mreturn\u001b[0m \u001b[0mscore\u001b[0m\u001b[0;34m\u001b[0m\u001b[0;34m\u001b[0m\u001b[0m\n\u001b[1;32m     24\u001b[0m     \u001b[0;32mreturn\u001b[0m \u001b[0mdf\u001b[0m\u001b[0;34m.\u001b[0m\u001b[0mapply\u001b[0m\u001b[0;34m(\u001b[0m\u001b[0mcompute_score\u001b[0m\u001b[0;34m,\u001b[0m \u001b[0maxis\u001b[0m \u001b[0;34m=\u001b[0m \u001b[0;36m1\u001b[0m\u001b[0;34m)\u001b[0m\u001b[0;34m\u001b[0m\u001b[0;34m\u001b[0m\u001b[0m\n",
      "\u001b[0;31mTypeError\u001b[0m: only size-1 arrays can be converted to Python scalars"
     ]
    }
   ],
   "source": [
    "filename['hybrid']['R-RMSE'] = score(filename['hybrid'],xx_truth,testdir)\n"
   ]
  },
  {
   "cell_type": "code",
   "execution_count": 31,
   "metadata": {},
   "outputs": [],
   "source": [
    "df = filename['hybrid']\n",
    "ref_params=ref['params']\n",
    "df_dtobs = df[(df['Nfil_train']==ref_params['Nfil_train'][0])&\n",
    "          (df['std_o']==ref_params['std_o'][0])&\n",
    "          (df['p']==ref_params['p'][0])\n",
    "         ]"
   ]
  },
  {
   "cell_type": "code",
   "execution_count": 32,
   "metadata": {},
   "outputs": [
    {
     "data": {
      "text/html": [
       "<div>\n",
       "<style scoped>\n",
       "    .dataframe tbody tr th:only-of-type {\n",
       "        vertical-align: middle;\n",
       "    }\n",
       "\n",
       "    .dataframe tbody tr th {\n",
       "        vertical-align: top;\n",
       "    }\n",
       "\n",
       "    .dataframe thead th {\n",
       "        text-align: right;\n",
       "    }\n",
       "</style>\n",
       "<table border=\"1\" class=\"dataframe\">\n",
       "  <thead>\n",
       "    <tr style=\"text-align: right;\">\n",
       "      <th></th>\n",
       "      <th>Nfil_train</th>\n",
       "      <th>T</th>\n",
       "      <th>dtObs</th>\n",
       "      <th>p</th>\n",
       "      <th>std_o</th>\n",
       "      <th>name</th>\n",
       "      <th>R-RMSE</th>\n",
       "    </tr>\n",
       "  </thead>\n",
       "  <tbody>\n",
       "    <tr>\n",
       "      <th>85</th>\n",
       "      <td>5</td>\n",
       "      <td>15</td>\n",
       "      <td>0.01</td>\n",
       "      <td>36</td>\n",
       "      <td>0.1</td>\n",
       "      <td>simul-hybrid-p36-dtObs0.01-std_o0.1-filter5-N2...</td>\n",
       "      <td>0.415741</td>\n",
       "    </tr>\n",
       "    <tr>\n",
       "      <th>103</th>\n",
       "      <td>5</td>\n",
       "      <td>15</td>\n",
       "      <td>0.05</td>\n",
       "      <td>36</td>\n",
       "      <td>0.1</td>\n",
       "      <td>simul-hybrid-p36-dtObs0.05-std_o0.1-filter5-N2...</td>\n",
       "      <td>0.522136</td>\n",
       "    </tr>\n",
       "    <tr>\n",
       "      <th>121</th>\n",
       "      <td>5</td>\n",
       "      <td>15</td>\n",
       "      <td>0.10</td>\n",
       "      <td>36</td>\n",
       "      <td>0.1</td>\n",
       "      <td>simul-hybrid-p36-dtObs0.1-std_o0.1-filter5-N20...</td>\n",
       "      <td>0.868955</td>\n",
       "    </tr>\n",
       "    <tr>\n",
       "      <th>139</th>\n",
       "      <td>5</td>\n",
       "      <td>15</td>\n",
       "      <td>0.15</td>\n",
       "      <td>36</td>\n",
       "      <td>0.1</td>\n",
       "      <td>simul-hybrid-p36-dtObs0.15-std_o0.1-filter5-N2...</td>\n",
       "      <td>1.024268</td>\n",
       "    </tr>\n",
       "  </tbody>\n",
       "</table>\n",
       "</div>"
      ],
      "text/plain": [
       "     Nfil_train   T  dtObs   p  std_o  \\\n",
       "85            5  15   0.01  36    0.1   \n",
       "103           5  15   0.05  36    0.1   \n",
       "121           5  15   0.10  36    0.1   \n",
       "139           5  15   0.15  36    0.1   \n",
       "\n",
       "                                                  name    R-RMSE  \n",
       "85   simul-hybrid-p36-dtObs0.01-std_o0.1-filter5-N2...  0.415741  \n",
       "103  simul-hybrid-p36-dtObs0.05-std_o0.1-filter5-N2...  0.522136  \n",
       "121  simul-hybrid-p36-dtObs0.1-std_o0.1-filter5-N20...  0.868955  \n",
       "139  simul-hybrid-p36-dtObs0.15-std_o0.1-filter5-N2...  1.024268  "
      ]
     },
     "execution_count": 32,
     "metadata": {},
     "output_type": "execute_result"
    }
   ],
   "source": []
  },
  {
   "cell_type": "code",
   "execution_count": 28,
   "metadata": {},
   "outputs": [
    {
     "data": {
      "text/plain": [
       "[1]"
      ]
     },
     "execution_count": 28,
     "metadata": {},
     "output_type": "execute_result"
    }
   ],
   "source": [
    "ref_params['Nfil_train']"
   ]
  },
  {
   "cell_type": "code",
   "execution_count": null,
   "metadata": {},
   "outputs": [],
   "source": []
  }
 ],
 "metadata": {
  "kernelspec": {
   "display_name": "Python 3",
   "language": "python",
   "name": "python3"
  },
  "language_info": {
   "codemirror_mode": {
    "name": "ipython",
    "version": 3
   },
   "file_extension": ".py",
   "mimetype": "text/x-python",
   "name": "python",
   "nbconvert_exporter": "python",
   "pygments_lexer": "ipython3",
   "version": "3.7.7"
  }
 },
 "nbformat": 4,
 "nbformat_minor": 4
}
