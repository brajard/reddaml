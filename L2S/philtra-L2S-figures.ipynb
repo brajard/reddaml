{
 "cells": [
  {
   "cell_type": "code",
   "execution_count": 1,
   "metadata": {},
   "outputs": [
    {
     "name": "stdout",
     "output_type": "stream",
     "text": [
      "Initializing DAPPER...\n",
      "\n",
      "Warning: interactive/live plotting was requested,\n",
      "but is not supported by current backend: module://ipykernel.pylab.backend_inline.\n",
      "Try another backend in your settings, e.g., mpl.use('Qt5Agg').\n",
      "...Done\n",
      "PS: Turn off this message in your configuration: dpr_config.ini\n"
     ]
    }
   ],
   "source": [
    "# Load the python modules.\n",
    "import os, sys\n",
    "import numpy as np\n",
    "import wget\n",
    "from dapper import Chronology\n",
    "#Insert the common folder in the path (to be able to load python module)\n",
    "sys.path.insert(0,os.path.join(os.path.pardir,'common'))\n",
    "from toolbox import load_config, path, get_filenames, load_data, rmse_norm\n",
    "from l2s_utils import plot_L96_2D, default_param"
   ]
  },
  {
   "cell_type": "markdown",
   "metadata": {},
   "source": [
    "# Setting\n",
    "\n",
    "## Source of the data\n",
    "The variable ```source``` can be set to ```\"ftp\"``` or ```\"local\"```.\n",
    "- ```ftp```: it will download the data from an ftp server, so there is no need to compute the data. WARNING: it will override existing data in the data simulations data directory.\n",
    "- ```local```: it will load the data locally. So you have to first either having downloaded the data from the ftp server, either having computing the data using the other notebooks.\n",
    "\n",
    "## Configuration files\n",
    "There are 4 configuration file to set. Default configuration files are provided but if you want to make further experiment, it is possible to change the configuration file.\n",
    "- ```config_path```: contains all the paths where to load and save the data.\n",
    "- ```config_ftp```: contains the url of the data in the ftp server. This configuration file is optional if you don't download the data from ftp.\n",
    "- ```config_ref```: contains the reference simulations settings.\n",
    "- ```config_sens```: contains the different settings for an sensitivity experiment."
   ]
  },
  {
   "cell_type": "code",
   "execution_count": 2,
   "metadata": {},
   "outputs": [],
   "source": [
    "#Source of the data (comment/uncomment the lines given your choice)\n",
    "source = 'local'\n",
    "#source = 'ftp'\n"
   ]
  },
  {
   "cell_type": "code",
   "execution_count": 3,
   "metadata": {},
   "outputs": [],
   "source": [
    "#Configuration files\n",
    "config_path = 'config/paths.yml'\n",
    "config_ftp = 'config/ftp.yml' #optional if data are generated locally\n",
    "config_ref = 'config/ref.yml'\n",
    "config_sens = 'config/sens.yml'"
   ]
  },
  {
   "cell_type": "code",
   "execution_count": 4,
   "metadata": {},
   "outputs": [
    {
     "name": "stdout",
     "output_type": "stream",
     "text": [
      "Directory containing the simulations:\n",
      "-> /Users/brajard/Documents/recherche/papers/2020/PHILTRA/reddaml/data/L2S/simul/test\n",
      "Directory to save the figures:\n",
      "-> /Users/brajard/Documents/recherche/papers/2020/PHILTRA/reddaml/data/L2S/fig\n"
     ]
    }
   ],
   "source": [
    "# Load the paths (yml file)\n",
    "paths = load_config('config/paths.yml')\n",
    "\n",
    "# Rootdir for the L2S data\n",
    "rootdir = path(paths['rootdir'])\n",
    "\n",
    "#Check if figdir exist and set the figdir accordingly\n",
    "savefig = 'figdir' in paths and bool(paths['figdir'])\n",
    "figdir = path(os.path.join(rootdir,paths['figdir'])) if savefig else None\n",
    "\n",
    "#Directory containing the simulations\n",
    "testdir = path(os.path.join(rootdir,paths['testdir']))\n",
    "\n",
    "#Print:\n",
    "print(\"Directory containing the simulations:\\n->\",testdir)\n",
    "if figdir:\n",
    "    print(\"Directory to save the figures:\\n->\",figdir)"
   ]
  },
  {
   "cell_type": "code",
   "execution_count": 5,
   "metadata": {},
   "outputs": [],
   "source": [
    "#Load the ftp configuration file if needed\n",
    "if source == 'ftp':\n",
    "    ftp = load_config(config_ftp)\n",
    "    ftpurl, ftpdir = ftp['url'], ftp['test']\n",
    "    print('\\033[93m'+'Warning! The source is set to ftp. \\nIt will override existing local simulation in the simulation directory'+'\\033[0m')\n",
    "else:\n",
    "    ftp = None\n",
    "    ftpurl, ftpdir = None, None"
   ]
  },
  {
   "cell_type": "markdown",
   "metadata": {},
   "source": [
    "## Plot Figure 1"
   ]
  },
  {
   "cell_type": "code",
   "execution_count": 6,
   "metadata": {},
   "outputs": [
    {
     "name": "stdout",
     "output_type": "stream",
     "text": [
      "Parameters of the reference experiment:\n",
      " {'p': [36], 'dtObs': [0.05], 'std_o': [0.1], 'Nfil_train': [1], 'T': [15]}\n",
      "Template names used to load the reference experiment:\n",
      " {'truth': 'simul-truth-T{T}-N{N}-seed{seed}.npz', 'hybrid': 'simul-hybrid-p{p}-dtObs{dtObs}-std_o{std_o}-filter{Nfil_train}-N{N}-seed{seed}.npz'}\n"
     ]
    }
   ],
   "source": [
    "# Define the reference experiment to plot\n",
    "ref = load_config(config_ref)\n",
    "print('Parameters of the reference experiment:\\n',ref['params'])\n",
    "print('Template names used to load the reference experiment:\\n',ref['files'])"
   ]
  },
  {
   "cell_type": "code",
   "execution_count": 7,
   "metadata": {},
   "outputs": [
    {
     "name": "stdout",
     "output_type": "stream",
     "text": [
      "Data file truth:\n",
      "-> simul-truth-T15.0-N20-seed10.npz\n",
      "Data file hybrid:\n",
      "-> simul-hybrid-p36-dtObs0.05-std_o0.1-filter1-N20-seed10.npz\n"
     ]
    }
   ],
   "source": [
    "# Load the data of the hybrid/true run\n",
    "filename = get_filenames(ref, default_param=default_param)\n",
    "\n",
    "#Check if there is exactly one filename to load\n",
    "assert len(filename['hybrid']) == 1\n",
    "\n",
    "#Set the filename (as a str) of the data\n",
    "fname = str(filename['truth'].name.iloc[0])\n",
    "data_truth = load_data(testdir,fname,ftpurl=ftpurl,ftpdir=ftpdir)\n",
    "\n",
    "print(\"Data file truth:\\n->\",fname)\n",
    "\n",
    "fname = str(filename['hybrid'].name.iloc[0])\n",
    "data_hybrid = load_data(testdir,fname,ftpurl=ftpurl,ftpdir=ftpdir)\n",
    "\n",
    "print(\"Data file hybrid:\\n->\",fname)"
   ]
  },
  {
   "cell_type": "code",
   "execution_count": 8,
   "metadata": {},
   "outputs": [
    {
     "name": "stdout",
     "output_type": "stream",
     "text": [
      "Size of the time axis: (1501,)\n",
      "Size of the truth simulation (time step, members, space): (1501, 20, 36)\n",
      "Size of the hybrid simulation (time step, members, space): (1501, 20, 36)\n"
     ]
    }
   ],
   "source": [
    "# Format the data (the time step of the hybrid model is different from the time step of the real model)\n",
    "\n",
    "#hybrid data\n",
    "xx_hybrid = data_hybrid['xx']\n",
    "\n",
    "#chronology\n",
    "chrono_hybrid = Chronology(dkObs=1,T=data_hybrid['T'],dt=data_hybrid['dt'])\n",
    "chrono_truth = Chronology(dkObs=1,T=data_truth['T'],dt=data_truth['dt'])\n",
    "\n",
    "#Compute the time step subsample:\n",
    "dk = int(chrono_hybrid.dt/chrono_truth.dt)\n",
    "\n",
    "#Compute the size of the hybrid model stat:\n",
    "nU = xx_hybrid.shape[-1]\n",
    "\n",
    "#Subsampe the true model in space and time to fit the hybrid model space\n",
    "xx_truth = data_truth['xx'][::dk,:,:nU]\n",
    "\n",
    "#Define the time axis\n",
    "tt = chrono_hybrid.tt\n",
    "\n",
    "#Display the size of the model simulations\n",
    "print('Size of the time axis:',tt.shape)\n",
    "print('Size of the truth simulation (time step, members, space):',xx_truth.shape)\n",
    "print('Size of the hybrid simulation (time step, members, space):',xx_hybrid.shape)"
   ]
  },
  {
   "cell_type": "code",
   "execution_count": 9,
   "metadata": {},
   "outputs": [
    {
     "data": {
      "image/png": "[encoded data removed]",
      "text/plain": [
       "<Figure size 432x288 with 6 Axes>"
      ]
     },
     "metadata": {},
     "output_type": "display_data"
    }
   ],
   "source": [
    "# Plot the figure 1\n",
    "\n",
    "#Ensemble member to plot:\n",
    "iens=1\n",
    "\n",
    "#Number of time steps to plot\n",
    "limT = 500\n",
    "\n",
    "#Plot\n",
    "fig = plot_L96_2D(xx_truth[:limT,iens],xx_hybrid[:limT,iens],tt[:limT],['Truth','NN hyb.'])\n",
    "\n",
    "#Save (if needed)\n",
    "if figdir:\n",
    "    fig.savefig(os.path.join(figdir,'philtra-fig1.png'),\n",
    "            dpi=200, bbox_inches='tight', pad_inches=0)"
   ]
  },
  {
   "cell_type": "markdown",
   "metadata": {},
   "source": [
    "## Plot Figure 2"
   ]
  },
  {
   "cell_type": "code",
   "execution_count": 10,
   "metadata": {},
   "outputs": [
    {
     "name": "stdout",
     "output_type": "stream",
     "text": [
      "Parameters of the sensitivity experiment:\n",
      " {'p': [18, 27, 36], 'dtObs': [0.01, 0.05, 0.1, 0.15], 'std_o': [0.05, 0.1, 0.2, 0.5, 1.0, 2.0], 'Nfil_train': [1, 5], 'T': [15]}\n",
      "Template names used to load the reference experiment:\n",
      " {'truth': 'simul-truth-T{T}-N{N}-seed{seed}.npz', 'hybrid': 'simul-hybrid-p{p}-dtObs{dtObs}-std_o{std_o}-filter{Nfil_train}-N{N}-seed{seed}.npz', 'trunc': 'simul-trunc-T{T}-N{N}-seed{seed}.npz', 'perfect': 'simul-perfect-dtObs{dtObs}-N{N}-seed{seed}.npz'}\n"
     ]
    }
   ],
   "source": [
    "sens = load_config(config_sens)\n",
    "print('Parameters of the sensitivity experiment:\\n',sens['params'])\n",
    "print('Template names used to load the reference experiment:\\n',sens['files'])\n",
    "\n",
    "#Reload ref file (in case you haven't been gone through Plot Figure 1)\n",
    "ref = load_config(config_ref)"
   ]
  },
  {
   "cell_type": "code",
   "execution_count": 11,
   "metadata": {},
   "outputs": [
    {
     "name": "stdout",
     "output_type": "stream",
     "text": [
      "Data file truth:\n",
      "-> simul-truth-T15.0-N20-seed10.npz\n",
      "Data file trunc:\n",
      "-> simul-trunc-T15.0-N20-seed10.npz\n",
      "Data file perfect:\n",
      "-> simul-perfect-dtObs0.01-N20-seed10.npz\n"
     ]
    }
   ],
   "source": [
    "# (Re)Load the data of the true/truncated run\n",
    "filename = get_filenames(sens, default_param=default_param)\n",
    "\n",
    "#Check if there is exactly one filename to load\n",
    "assert len(filename['truth']) == 1\n",
    "\n",
    "if source == 'ftp':\n",
    "    ftpurl, ftpdir = ftp['url'], ftp['test']\n",
    "else:\n",
    "    ftpurl, ftpdir = None, None\n",
    "\n",
    "#Set the filename (as a str) of the data\n",
    "fname = str(filename['truth'].name.iloc[0])\n",
    "data_truth = load_data(testdir,fname,ftpurl=ftpurl,ftpdir=ftpdir)\n",
    "\n",
    "print(\"Data file truth:\\n->\",fname)\n",
    "\n",
    "#Set the filename (as a str) of the data\n",
    "fname = str(filename['trunc'].name.iloc[0])\n",
    "data_trunc = load_data(testdir,fname,ftpurl=ftpurl,ftpdir=ftpdir)\n",
    "\n",
    "print(\"Data file trunc:\\n->\",fname)\n",
    "\n",
    "#Set the filename (as a str) of the data\n",
    "fname = str(filename['perfect'].name.iloc[0])\n",
    "data_perfect = load_data(testdir,fname,ftpurl=ftpurl,ftpdir=ftpdir)\n",
    "\n",
    "print(\"Data file perfect:\\n->\",fname)"
   ]
  },
  {
   "cell_type": "code",
   "execution_count": 12,
   "metadata": {},
   "outputs": [
    {
     "name": "stdout",
     "output_type": "stream",
     "text": [
      "Size of the time axis: (1501,)\n",
      "Size of the truth simulation (time step, members, space): (1501, 20, 36)\n",
      "Size of the trunc simulation (time step, members, space): (1501, 20, 36)\n"
     ]
    }
   ],
   "source": [
    "# Format the data (the time step of the trunc model is different from the time step of the real model)\n",
    "\n",
    "\n",
    "#Trunc data\n",
    "xx_trunc = data_trunc['xx']\n",
    "\n",
    "#chronology\n",
    "chrono_trunc = Chronology(dkObs=1,T=data_trunc['T'],dt=data_trunc['dt'])\n",
    "chrono_truth = Chronology(dkObs=1,T=data_truth['T'],dt=data_truth['dt'])\n",
    "\n",
    "#Compute the time step subsample:\n",
    "dk = int(chrono_trunc.dt/chrono_truth.dt)\n",
    "\n",
    "#Compute the size of the trunc model stat:\n",
    "nU = xx_trunc.shape[-1]\n",
    "\n",
    "#Subsampe the true model in space and time to fit the trunc model space\n",
    "xx_truth = data_truth['xx'][::dk,:,:nU]\n",
    "\n",
    "#Define the time axis\n",
    "tt = chrono_trunc.tt\n",
    "\n",
    "#Display the size of the model simulations\n",
    "print('Size of the time axis:',tt.shape)\n",
    "print('Size of the truth simulation (time step, members, space):',xx_truth.shape)\n",
    "print('Size of the trunc simulation (time step, members, space):',xx_trunc.shape)"
   ]
  },
  {
   "cell_type": "code",
   "execution_count": 13,
   "metadata": {},
   "outputs": [
    {
     "data": {
      "text/html": [
       "<div>\n",
       "<style scoped>\n",
       "    .dataframe tbody tr th:only-of-type {\n",
       "        vertical-align: middle;\n",
       "    }\n",
       "\n",
       "    .dataframe tbody tr th {\n",
       "        vertical-align: top;\n",
       "    }\n",
       "\n",
       "    .dataframe thead th {\n",
       "        text-align: right;\n",
       "    }\n",
       "</style>\n",
       "<table border=\"1\" class=\"dataframe\">\n",
       "  <thead>\n",
       "    <tr style=\"text-align: right;\">\n",
       "      <th></th>\n",
       "      <th>Nfil_train</th>\n",
       "      <th>T</th>\n",
       "      <th>dtObs</th>\n",
       "      <th>p</th>\n",
       "      <th>std_o</th>\n",
       "      <th>name</th>\n",
       "      <th>model</th>\n",
       "    </tr>\n",
       "  </thead>\n",
       "  <tbody>\n",
       "    <tr>\n",
       "      <th>0</th>\n",
       "      <td>1</td>\n",
       "      <td>15</td>\n",
       "      <td>0.01</td>\n",
       "      <td>18</td>\n",
       "      <td>0.05</td>\n",
       "      <td>simul-truth-T15.0-N20-seed10.npz</td>\n",
       "      <td>truth</td>\n",
       "    </tr>\n",
       "    <tr>\n",
       "      <th>1</th>\n",
       "      <td>1</td>\n",
       "      <td>15</td>\n",
       "      <td>0.01</td>\n",
       "      <td>18</td>\n",
       "      <td>0.05</td>\n",
       "      <td>simul-hybrid-p18-dtObs0.01-std_o0.05-filter1-N...</td>\n",
       "      <td>hybrid</td>\n",
       "    </tr>\n",
       "    <tr>\n",
       "      <th>2</th>\n",
       "      <td>1</td>\n",
       "      <td>15</td>\n",
       "      <td>0.01</td>\n",
       "      <td>18</td>\n",
       "      <td>0.10</td>\n",
       "      <td>simul-hybrid-p18-dtObs0.01-std_o0.1-filter1-N2...</td>\n",
       "      <td>hybrid</td>\n",
       "    </tr>\n",
       "    <tr>\n",
       "      <th>3</th>\n",
       "      <td>1</td>\n",
       "      <td>15</td>\n",
       "      <td>0.01</td>\n",
       "      <td>18</td>\n",
       "      <td>0.20</td>\n",
       "      <td>simul-hybrid-p18-dtObs0.01-std_o0.2-filter1-N2...</td>\n",
       "      <td>hybrid</td>\n",
       "    </tr>\n",
       "    <tr>\n",
       "      <th>4</th>\n",
       "      <td>1</td>\n",
       "      <td>15</td>\n",
       "      <td>0.01</td>\n",
       "      <td>18</td>\n",
       "      <td>0.50</td>\n",
       "      <td>simul-hybrid-p18-dtObs0.01-std_o0.5-filter1-N2...</td>\n",
       "      <td>hybrid</td>\n",
       "    </tr>\n",
       "    <tr>\n",
       "      <th>...</th>\n",
       "      <td>...</td>\n",
       "      <td>...</td>\n",
       "      <td>...</td>\n",
       "      <td>...</td>\n",
       "      <td>...</td>\n",
       "      <td>...</td>\n",
       "      <td>...</td>\n",
       "    </tr>\n",
       "    <tr>\n",
       "      <th>145</th>\n",
       "      <td>1</td>\n",
       "      <td>15</td>\n",
       "      <td>0.01</td>\n",
       "      <td>18</td>\n",
       "      <td>0.05</td>\n",
       "      <td>simul-trunc-T15.0-N20-seed10.npz</td>\n",
       "      <td>trunc</td>\n",
       "    </tr>\n",
       "    <tr>\n",
       "      <th>146</th>\n",
       "      <td>1</td>\n",
       "      <td>15</td>\n",
       "      <td>0.01</td>\n",
       "      <td>18</td>\n",
       "      <td>0.05</td>\n",
       "      <td>simul-perfect-dtObs0.01-N20-seed10.npz</td>\n",
       "      <td>perfect</td>\n",
       "    </tr>\n",
       "    <tr>\n",
       "      <th>147</th>\n",
       "      <td>1</td>\n",
       "      <td>15</td>\n",
       "      <td>0.05</td>\n",
       "      <td>18</td>\n",
       "      <td>0.05</td>\n",
       "      <td>simul-perfect-dtObs0.05-N20-seed10.npz</td>\n",
       "      <td>perfect</td>\n",
       "    </tr>\n",
       "    <tr>\n",
       "      <th>148</th>\n",
       "      <td>1</td>\n",
       "      <td>15</td>\n",
       "      <td>0.10</td>\n",
       "      <td>18</td>\n",
       "      <td>0.05</td>\n",
       "      <td>simul-perfect-dtObs0.1-N20-seed10.npz</td>\n",
       "      <td>perfect</td>\n",
       "    </tr>\n",
       "    <tr>\n",
       "      <th>149</th>\n",
       "      <td>1</td>\n",
       "      <td>15</td>\n",
       "      <td>0.15</td>\n",
       "      <td>18</td>\n",
       "      <td>0.05</td>\n",
       "      <td>simul-perfect-dtObs0.15-N20-seed10.npz</td>\n",
       "      <td>perfect</td>\n",
       "    </tr>\n",
       "  </tbody>\n",
       "</table>\n",
       "<p>150 rows × 7 columns</p>\n",
       "</div>"
      ],
      "text/plain": [
       "     Nfil_train   T  dtObs   p  std_o  \\\n",
       "0             1  15   0.01  18   0.05   \n",
       "1             1  15   0.01  18   0.05   \n",
       "2             1  15   0.01  18   0.10   \n",
       "3             1  15   0.01  18   0.20   \n",
       "4             1  15   0.01  18   0.50   \n",
       "..          ...  ..    ...  ..    ...   \n",
       "145           1  15   0.01  18   0.05   \n",
       "146           1  15   0.01  18   0.05   \n",
       "147           1  15   0.05  18   0.05   \n",
       "148           1  15   0.10  18   0.05   \n",
       "149           1  15   0.15  18   0.05   \n",
       "\n",
       "                                                  name    model  \n",
       "0                     simul-truth-T15.0-N20-seed10.npz    truth  \n",
       "1    simul-hybrid-p18-dtObs0.01-std_o0.05-filter1-N...   hybrid  \n",
       "2    simul-hybrid-p18-dtObs0.01-std_o0.1-filter1-N2...   hybrid  \n",
       "3    simul-hybrid-p18-dtObs0.01-std_o0.2-filter1-N2...   hybrid  \n",
       "4    simul-hybrid-p18-dtObs0.01-std_o0.5-filter1-N2...   hybrid  \n",
       "..                                                 ...      ...  \n",
       "145                   simul-trunc-T15.0-N20-seed10.npz    trunc  \n",
       "146             simul-perfect-dtObs0.01-N20-seed10.npz  perfect  \n",
       "147             simul-perfect-dtObs0.05-N20-seed10.npz  perfect  \n",
       "148              simul-perfect-dtObs0.1-N20-seed10.npz  perfect  \n",
       "149             simul-perfect-dtObs0.15-N20-seed10.npz  perfect  \n",
       "\n",
       "[150 rows x 7 columns]"
      ]
     },
     "execution_count": 13,
     "metadata": {},
     "output_type": "execute_result"
    }
   ],
   "source": [
    "#Reformat DataFrame\n",
    "import pandas as pd\n",
    "\n",
    "#Add a column in the Data frame with the type of simulation\n",
    "for k in filename:\n",
    "    filename[k]=filename[k].assign(model=k)\n",
    "\n",
    "#Concatenate all the dataframe in one:\n",
    "df = pd.concat([v for k,v in filename.items()], ignore_index=True)\n",
    "df"
   ]
  },
  {
   "cell_type": "code",
   "execution_count": null,
   "metadata": {},
   "outputs": [
    {
     "name": "stdout",
     "output_type": "stream",
     "text": [
      "->compute RMSE for the all the models (except the truth)\n"
     ]
    }
   ],
   "source": [
    "#Compute the RMSE between the hybrid simulation and the true simulation\n",
    "RMSE = dict()\n",
    "\n",
    "#Time to compute the RMSE\n",
    "it = 200\n",
    "\n",
    "df.assign(RMSE = np.nan) #Default value (changed in the loop)\n",
    "print('->compute RMSE for the all the models (except the truth)')\n",
    "for idx in df[df.model != 'truth'].index:\n",
    "    fname = df.loc[idx,'name']\n",
    "    data = load_data(testdir,fname,ftpurl=ftpurl,ftpdir=ftpdir)\n",
    "    xx_est = data['xx']\n",
    "    RMSE[idx] = rmse_norm(xx_truth,xx_est)\n",
    "    df.loc[idx,'RMSE'] = RMSE[idx][it]\n",
    "    data.close()\n"
   ]
  },
  {
   "cell_type": "code",
   "execution_count": null,
   "metadata": {},
   "outputs": [],
   "source": [
    "#Initialise the figure\n",
    "import matplotlib.pyplot as plt\n",
    "fig, (ax, ax0,ax1) = plt.subplots(ncols=3,figsize=(8.1,3),sharey='all')\n",
    "\n",
    "\n",
    "#Plot the sensitivity to dtobs\n",
    "df_dthyb = df[(df['Nfil_train']==ref_params['Nfil_train'][0])&\n",
    "          (df['std_o']==ref_params['std_o'][0])&\n",
    "          (df['p']==ref_params['p'][0]) & (df['model']=='hybrid')\n",
    "         ]\n",
    "\n",
    "df_dtpo = df[df['model']=='perfect']\n",
    "df_trunc = df[df['model']=='trunc']\n",
    "\n",
    "x = np.arange(df_dthyb.shape[0])\n",
    "xtrunc = [len(x)]\n",
    "ax0.bar(x=x-0.2,height=df_dthyb['RMSE'],width=0.4,color='C1',label='DA hyb.');\n",
    "ax0.bar(x=x+0.2,height=df_dtpo['RMSE'],width=0.4,color='C2',label='perf.obs. hyb.');\n",
    "ax0.bar(x=xtrunc,height=df_trunc['RMSE'],width=0.4,color='C3',label='trunc.')\n",
    "ax0.set_xticks(list(x)+xtrunc);\n",
    "ax0.set_xticklabels([str(dt) for dt in df_dthyb['dtObs']]+['trunc.']);\n",
    "ax0.bar(x=x[1]-0.2,height=df_dthyb.iloc[1]['RMSE'],width=0.4,fill=False,LineWidth=2,edgecolor='black',label='ref.exp.')\n",
    "\n",
    "ax0.legend()\n",
    "ax0.set_xlabel('$\\Delta t$')\n",
    "\n",
    "#Plot the sensitivity to the filtration\n",
    "df_filhyb = df_stdo = df[(df['dtObs']==ref_params['dtObs'][0]) & \n",
    "          (df['p']==ref_params['p'][0]) &\n",
    "          (df['Nfil_train'].isin([1,5])) & (df['model']=='hybrid')\n",
    "         ]\n",
    "df_1 = df_filhyb[df_filhyb['Nfil_train']==1]\n",
    "df_5 = df_filhyb[df_filhyb['Nfil_train']==5]\n",
    "\n",
    "\n",
    "x = np.arange(df_1.shape[0])\n",
    "ax1.bar(x=x-0.2,height=df_1['RMSE'],\n",
    "        width=0.4,color='C1',label='no filter');\n",
    "ax1.bar(x=x+0.2,height=df_5['RMSE'],\n",
    "        width=0.4,color='C4',label='filter 0.05 MTU');\n",
    "ax1.bar(x=x[1]-0.2,height=df_1.iloc[1]['RMSE'],\n",
    "        width=0.4,fill=False,LineWidth=2,edgecolor='black',label='ref.exp.')\n",
    "ax1.set_xticks(x);\n",
    "ax1.set_xticklabels(['{}'.format(stdo) for stdo in df_1['std_o']]);\n",
    "ax1.set_xlabel('$\\sigma^o$')\n",
    "ax1.legend()\n",
    "\n",
    "#Plot the sensitivity to the density of observations (time series)\n",
    "#Plot the sensitivity to dtobs\n",
    "\n",
    "#Number time step to display\n",
    "limT = 800\n",
    "\n",
    "#Displayed color\n",
    "cols=['C5','C6','C1']\n",
    "\n",
    "df_phyb = df[(df['Nfil_train']==ref_params['Nfil_train'][0])&\n",
    "          (df['std_o']==ref_params['std_o'][0])&\n",
    "          (df['dtObs']==ref_params['dtObs'][0]) & \n",
    "             (df['model']=='hybrid')\n",
    "         ]\n",
    "\n",
    "df_ppo = df[(df['model']=='perfect') & \n",
    "            (df['dtObs']==ref_params['dtObs'][0])]\n",
    "\n",
    "for i,idx in enumerate(df_phyb.index):\n",
    "    ax.plot(tt[:limT],RMSE[idx][:limT],\n",
    "            label='$N_y$={}'.format(df_phyb.loc[idx,'p']),\n",
    "           color=cols[i])\n",
    "ax.plot(tt[:limT],RMSE[df_trunc.index[0]][:limT],\n",
    "        label='trunc.',color='C3',linewidth=2)\n",
    "\n",
    "ax.plot(tt[:limT],RMSE[df_ppo.index[0]][:limT],\n",
    "        label='perf. obs.',color='C2',linewidth=2)\n",
    "\n",
    "ax.legend();\n",
    "\n",
    "if figdir:\n",
    "    fig.savefig(os.path.join(figdir,'philtra-fig2.png'),\n",
    "            dpi=200, bbox_inches='tight', pad_inches=0)\n"
   ]
  },
  {
   "cell_type": "code",
   "execution_count": null,
   "metadata": {},
   "outputs": [],
   "source": []
  }
 ],
 "metadata": {
  "kernelspec": {
   "display_name": "Python 3",
   "language": "python",
   "name": "python3"
  },
  "language_info": {
   "codemirror_mode": {
    "name": "ipython",
    "version": 3
   },
   "file_extension": ".py",
   "mimetype": "text/x-python",
   "name": "python",
   "nbconvert_exporter": "python",
   "pygments_lexer": "ipython3",
   "version": "3.7.7"
  }
 },
 "nbformat": 4,
 "nbformat_minor": 4
}
