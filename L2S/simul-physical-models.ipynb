{
 "cells": [
  {
   "cell_type": "markdown",
   "metadata": {},
   "source": [
    "This notebook runs the script to make a simulation of the phyiscal model:\n",
    "- The true simulation used for producing the observations\n",
    "- The truncated simulation used for data assimilation\n",
    "- The true/truncated simulations used for testing the results\n"
   ]
  },
  {
   "cell_type": "code",
   "execution_count": 1,
   "metadata": {},
   "outputs": [],
   "source": [
    "# Load the python modules.\n",
    "import os, sys\n",
    "#Insert the common folder in the path (to be able to load python module)\n",
    "sys.path.insert(0,os.path.join(os.path.pardir,'common'))\n",
    "from toolbox import save_config"
   ]
  },
  {
   "cell_type": "markdown",
   "metadata": {},
   "source": [
    "## 1. True model\n"
   ]
  },
  {
   "cell_type": "markdown",
   "metadata": {},
   "source": [
    "### 1.1 Training simulation"
   ]
  },
  {
   "cell_type": "markdown",
   "metadata": {},
   "source": [
    "The  parameters of the simulations are in configuration files:\n",
    "- ```config/model_true.yml```: contains configuration of the model to run\n",
    "- ```config/paths.yml```: contains the directory of the data\n",
    "- ```config/ref_train.yml```: contains the parameters of the reference experiment used for training"
   ]
  },
  {
   "cell_type": "code",
   "execution_count": 2,
   "metadata": {},
   "outputs": [
    {
     "name": "stdout",
     "output_type": "stream",
     "text": [
      "Initializing DAPPER...\n",
      "\n",
      "Warning: interactive/live plotting was requested,\n",
      "but is not supported by current backend: module://ipykernel.pylab.backend_inline.\n",
      "Try another backend in your settings, e.g., mpl.use('Qt5Agg').\n",
      "...Done\n",
      "PS: Turn off this message in your configuration: dpr_config.ini\n",
      "Starting after 3.0 spinup time\n",
      "--> run a purely physical model\n",
      "Size of the full dataset:3001\n"
     ]
    },
    {
     "name": "stderr",
     "output_type": "stream",
     "text": [
      "100%|██████████| 3600/3600 [00:11<00:00, 305.26it/s]\n"
     ]
    },
    {
     "name": "stdout",
     "output_type": "stream",
     "text": [
      "File saved:\n",
      "-> /Users/brajard/Documents/recherche/papers/2020/PHILTRA/reddaml/data/L2S/simul/train/simul-truth-T15.0-N1-seed5.npz\n",
      "-> /Users/brajard/Documents/recherche/papers/2020/PHILTRA/reddaml/data/L2S/simul/train/init-N1-seed5.npy\n"
     ]
    }
   ],
   "source": [
    "#Args for executing the script\n",
    "args= '--model ./config/model_true.yml --paths ./config/paths.yml --params ./config/ref_train.yml'\n",
    "\n",
    "#Executing the script\n",
    "%run simul.py $args"
   ]
  },
  {
   "cell_type": "markdown",
   "metadata": {},
   "source": [
    "### 1.2 Test simulation"
   ]
  },
  {
   "cell_type": "markdown",
   "metadata": {},
   "source": [
    "The  parameters of the simulations are in configuration files:\n",
    "- ```config/model_true.yml```: contains configuration of the model to run\n",
    "- ```config/paths.yml```: contains the directory of the data\n",
    "- ```config/ref_test.yml```: contains the parameters of the reference experiment used for testing\n",
    "\n",
    "Note: the difference with the previous experiment is value of the seed (5 vs 10) and the size of the ensemble (20 vs 1)"
   ]
  },
  {
   "cell_type": "code",
   "execution_count": 3,
   "metadata": {},
   "outputs": [
    {
     "name": "stdout",
     "output_type": "stream",
     "text": [
      "Starting after 3.0 spinup time\n",
      "--> run a purely physical model\n",
      "Size of the full dataset:3001\n"
     ]
    },
    {
     "name": "stderr",
     "output_type": "stream",
     "text": [
      "100%|██████████| 3600/3600 [00:14<00:00, 251.46it/s]\n"
     ]
    },
    {
     "name": "stdout",
     "output_type": "stream",
     "text": [
      "File saved:\n",
      "-> /Users/brajard/Documents/recherche/papers/2020/PHILTRA/reddaml/data/L2S/simul/test/simul-truth-T15.0-N20-seed10.npz\n",
      "-> /Users/brajard/Documents/recherche/papers/2020/PHILTRA/reddaml/data/L2S/simul/test/init-N20-seed10.npy\n"
     ]
    }
   ],
   "source": [
    "#Args for executing the script\n",
    "args= '--model ./config/model_true.yml --paths ./config/paths.yml --params ./config/ref_t.yml'\n",
    "\n",
    "#Executing the script\n",
    "%run simul.py $args"
   ]
  },
  {
   "cell_type": "markdown",
   "metadata": {},
   "source": [
    "## 2. Truncated model\n"
   ]
  },
  {
   "cell_type": "markdown",
   "metadata": {},
   "source": [
    "### 1.1 Training simulation"
   ]
  },
  {
   "cell_type": "markdown",
   "metadata": {},
   "source": [
    "The  parameters of the simulations are in configuration files:\n",
    "- ```config/model_trunc.yml```: contains configuration of the model to run\n",
    "- ```config/paths.yml```: contains the directory of the data\n",
    "- ```config/ref_train.yml```: contains the parameters of the reference experiment used for training"
   ]
  },
  {
   "cell_type": "code",
   "execution_count": 4,
   "metadata": {},
   "outputs": [
    {
     "name": "stdout",
     "output_type": "stream",
     "text": [
      "Starting from template file /Users/brajard/Documents/recherche/papers/2020/PHILTRA/reddaml/data/L2S/simul/train/init-N{N}-seed{seed}.npy\n",
      "--> run a purely physical model\n",
      "Size of the full dataset:1501\n"
     ]
    },
    {
     "name": "stderr",
     "output_type": "stream",
     "text": [
      "100%|██████████| 1500/1500 [00:00<00:00, 3024.88it/s]\n"
     ]
    },
    {
     "name": "stdout",
     "output_type": "stream",
     "text": [
      "File saved:\n",
      "-> /Users/brajard/Documents/recherche/papers/2020/PHILTRA/reddaml/data/L2S/simul/train/simul-trunc-T15.0-N1-seed5.npz\n"
     ]
    }
   ],
   "source": [
    "#Args for executing the script\n",
    "args= '--model ./config/model_trunc.yml --paths ./config/paths.yml --params ./config/ref_train.yml'\n",
    "\n",
    "#Executing the script\n",
    "%run simul.py $args"
   ]
  },
  {
   "cell_type": "markdown",
   "metadata": {},
   "source": [
    "### 1.2 Test simulation"
   ]
  },
  {
   "cell_type": "markdown",
   "metadata": {},
   "source": [
    "The  parameters of the simulations are in configuration files:\n",
    "- ```config/paths.yml```: contains the path of the data directory\n",
    "- ```config/template.yml```: contains the template names of the files to be saved\n",
    "- ```config/ref_test.yml```: contains the parameters of the reference experiment used for testing\n",
    "\n",
    "Note: the difference with the previous experiment is value of the seed (5 vs 10) and the size of the ensemble (20 vs 1)"
   ]
  },
  {
   "cell_type": "code",
   "execution_count": null,
   "metadata": {},
   "outputs": [],
   "source": [
    "#Args for executing the script\n",
    "args= '--template ./config/template.yml --paths ./config/paths.yml --params ./config/ref_test.yml '+ configfile_trunc\n",
    "\n",
    "#Executing the script\n",
    "%run simul.py $args"
   ]
  },
  {
   "cell_type": "code",
   "execution_count": null,
   "metadata": {},
   "outputs": [],
   "source": []
  }
 ],
 "metadata": {
  "kernelspec": {
   "display_name": "Python 3",
   "language": "python",
   "name": "python3"
  },
  "language_info": {
   "codemirror_mode": {
    "name": "ipython",
    "version": 3
   },
   "file_extension": ".py",
   "mimetype": "text/x-python",
   "name": "python",
   "nbconvert_exporter": "python",
   "pygments_lexer": "ipython3",
   "version": "3.7.7"
  }
 },
 "nbformat": 4,
 "nbformat_minor": 4
}
