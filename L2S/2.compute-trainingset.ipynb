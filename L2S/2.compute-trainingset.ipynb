{
 "cells": [
  {
   "cell_type": "markdown",
   "metadata": {},
   "source": [
    "This notebook tuns the script to produce the training set used by the NN in the following cases:\n",
    "- The experiment with perfect obs\n",
    "- The experiment with sparse/noisy obs where training set is derived by data assimilation\n",
    "\n",
    "<font color='red'>The outputs produced in this notebook can be checked using the notebook [check-experiment](check-experiment.ipynb) (section 2) by setting ```fexp``` to ```config/ref_test.yml``` or ```config/ref_test_po.yml```\n",
    " </font>"
   ]
  },
  {
   "cell_type": "markdown",
   "metadata": {},
   "source": [
    "## 1. Noisy/sparse observations\n",
    "\n",
    "The  parameters of the simulations are in configuration files:\n",
    "- ```config/model_trunc.yml```: contains configuration of the truncated model to run in DA\n",
    "- ```config/paths.yml```: contains the directory of the data\n",
    "- ```config/ref_train.yml```: contains the parameters of the reference experiment used for training"
   ]
  },
  {
   "cell_type": "code",
   "execution_count": 1,
   "metadata": {},
   "outputs": [
    {
     "name": "stdout",
     "output_type": "stream",
     "text": [
      "Initializing DAPPER...\n",
      "\n",
      "Warning: interactive/live plotting was requested,\n",
      "but is not supported by current backend: module://ipykernel.pylab.backend_inline.\n",
      "Try another backend in your settings, e.g., mpl.use('Qt5Agg').\n",
      "...Done\n",
      "PS: Turn off this message in your configuration: dpr_config.ini\n",
      "--> use noisy/sparse observations\n"
     ]
    },
    {
     "name": "stderr",
     "output_type": "stream",
     "text": [
      "Generate Obs: 100%|██████████| 150000/150000 [00:02<00:00, 66108.24it/s]\n",
      "EnKF_N: 100%|██████████| 150000/150000 [05:51<00:00, 427.06it/s]\n"
     ]
    },
    {
     "name": "stdout",
     "output_type": "stream",
     "text": [
      "     |  rmse_a ±        rmv_a ±\n",
      "---  -  -------------  -------------\n",
      "[0]  |  0.3251 0.0008  0.1323 0.0001\n"
     ]
    }
   ],
   "source": [
    "#Args for executing the script\n",
    "args= '--paths config/paths.yml --params config/ref_train.yml --model config/model_trunc.yml'\n",
    "\n",
    "#Executing the script\n",
    "%run compute_trainingset.py $args\n"
   ]
  },
  {
   "cell_type": "markdown",
   "metadata": {},
   "source": [
    "## 2. perfect observations\n",
    "\n",
    "The  parameters of the simulations are in configuration files:\n",
    "- ```config/model_trunc.yml```: contains configuration of the truncated model to run in DA\n",
    "- ```config/paths.yml```: contains the directory of the data\n",
    "- ```config/ref_train_po.yml```: contains the parameters of the reference experiment used for training"
   ]
  },
  {
   "cell_type": "code",
   "execution_count": 2,
   "metadata": {},
   "outputs": [
    {
     "name": "stdout",
     "output_type": "stream",
     "text": [
      "--> use perfect observations (no DA)\n",
      "Experiment 1/1: {'N': 1, 'T': 1500.0, 'dtObs': 0.05, 'seed': 5}\n"
     ]
    }
   ],
   "source": [
    "#Args for executing the script\n",
    "args= '--paths config/paths.yml --params config/ref_train_po.yml --model config/model_trunc.yml'\n",
    "\n",
    "#Executing the script\n",
    "%run compute_trainingset.py $args\n"
   ]
  },
  {
   "cell_type": "code",
   "execution_count": null,
   "metadata": {},
   "outputs": [],
   "source": []
  }
 ],
 "metadata": {
  "kernelspec": {
   "display_name": "Python 3",
   "language": "python",
   "name": "python3"
  },
  "language_info": {
   "codemirror_mode": {
    "name": "ipython",
    "version": 3
   },
   "file_extension": ".py",
   "mimetype": "text/x-python",
   "name": "python",
   "nbconvert_exporter": "python",
   "pygments_lexer": "ipython3",
   "version": "3.7.7"
  }
 },
 "nbformat": 4,
 "nbformat_minor": 4
}
