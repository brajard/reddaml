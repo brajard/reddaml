{
 "cells": [
  {
   "cell_type": "code",
   "execution_count": 40,
   "metadata": {},
   "outputs": [],
   "source": [
    "# Load the python modules.\n",
    "import os, sys\n",
    "#Insert the common folder in the path (to be able to load python module)\n",
    "sys.path.insert(0,os.path.join(os.path.pardir,'common'))\n",
    "import numpy as np\n",
    "import wget\n",
    "from dapper import Chronology\n",
    "\n",
    "from toolbox import load_config, path, get_filenames, load_data, rmse_norm\n",
    "from l2s_utils import plot_L96_2D, default_param\n",
    "\n",
    "#To control plot layouts\n",
    "import seaborn as sns\n",
    "sns.set_style(\"whitegrid\")\n",
    "sns.set_context(\"paper\")\n",
    "\n",
    "from tqdm.notebook import tqdm"
   ]
  },
  {
   "cell_type": "markdown",
   "metadata": {},
   "source": [
    "# Setting\n",
    "\n",
    "## Source of the data\n",
    "The variable ```source``` can be set to ```\"ftp\"``` or ```\"local\"```.\n",
    "- ```ftp```: it will download the data from an ftp server, so there is no need to compute the data. WARNING: it will override existing data in the data simulations data directory.\n",
    "- ```local```: it will load the data locally. So you have to first either having downloaded the data from the ftp server, either having computing the data using the other notebooks.\n",
    "\n",
    "## Configuration files\n",
    "There are 4 configuration file to set. Default configuration files are provided but if you want to make further experiment, it is possible to change the configuration file.\n",
    "- ```config_path```: contains the path of the data directory.\n",
    "- ```config_ftp```: contains the url of the data in the ftp server. This configuration file is optional if you don't download the data from ftp.\n",
    "- ```config_ref```: contains the reference simulations settings.\n",
    "- ```config_sens```: contains the different settings for an sensitivity experiment."
   ]
  },
  {
   "cell_type": "code",
   "execution_count": 2,
   "metadata": {},
   "outputs": [],
   "source": [
    "#Source of the data (comment/uncomment the lines given your choice)\n",
    "source = 'local'\n",
    "#source = 'ftp'\n"
   ]
  },
  {
   "cell_type": "code",
   "execution_count": 3,
   "metadata": {},
   "outputs": [],
   "source": [
    "# Directory where to save the figure (if figdir = None, no figure are saved)\n",
    "# figdir = '.'\n",
    "figdir = None"
   ]
  },
  {
   "cell_type": "code",
   "execution_count": 4,
   "metadata": {},
   "outputs": [],
   "source": [
    "#Configuration files\n",
    "config_path = 'config/paths.yml'\n",
    "config_ftp = 'config/ftp.yml' #optional if data are generated locally\n",
    "config_ref = 'config/ref_test.yml'\n",
    "config_sens = 'config/sens_test.yml'\n",
    "config_sens_po = 'config/sens_test_po.yml'"
   ]
  },
  {
   "cell_type": "code",
   "execution_count": 5,
   "metadata": {},
   "outputs": [
    {
     "name": "stdout",
     "output_type": "stream",
     "text": [
      "Directory containing the simulations for the reference experiment:\n",
      "-> /Group/da/julaja/redda/L2S/simul/test\n"
     ]
    }
   ],
   "source": [
    "# Load the paths (yml file)\n",
    "paths = load_config(config_path)\n",
    "\n",
    "# Load the reference\n",
    "ref = load_config(config_ref)\n",
    "\n",
    "# Rootdir for the L2S data\n",
    "rootdir = path(paths['rootdir'])\n",
    "\n",
    "# Template names\n",
    "template_ref = ref['template']\n",
    "\n",
    "#Check if figdir exist and set the figdir accordingly\n",
    "savefig = bool(figdir)\n",
    "\n",
    "#Directory containing the simulations\n",
    "refdir = path(os.path.join(rootdir,ref['savedir']))\n",
    "\n",
    "#Print:\n",
    "print(\"Directory containing the simulations for the reference experiment:\\n->\",refdir)\n"
   ]
  },
  {
   "cell_type": "code",
   "execution_count": 6,
   "metadata": {},
   "outputs": [],
   "source": [
    "#Load the ftp configuration file if needed\n",
    "if source == 'ftp':\n",
    "    ftp = load_config(config_ftp)\n",
    "    ftpurl, ftpdir = ftp['url'], ftp['test']\n",
    "    print('\\033[93m'+'Warning! The source is set to ftp. \\nIt will override existing local simulation in the simulation directory'+'\\033[0m')\n",
    "else:\n",
    "    ftp = None\n",
    "    ftpurl, ftpdir = None, None"
   ]
  },
  {
   "cell_type": "markdown",
   "metadata": {},
   "source": [
    "## Plot Figure 1"
   ]
  },
  {
   "cell_type": "code",
   "execution_count": null,
   "metadata": {},
   "outputs": [],
   "source": [
    "\n",
    "# Define the parameters\n",
    "used_parameter = { 'p', 'std_o', 'dtObs', 'std_m' ,'N','T','seed', 'Nfil_train'}\n",
    "\n",
    "#List of values for the used paramters\n",
    "dparam = {k:ref.get(k,[default_param[k]])[0] for k in used_parameter}\n",
    "\n",
    "\n",
    "\n",
    "used_parameters = { 'p', 'std_o', 'dtObs', 'std_m' ,'N','T','seed'}\n",
    "print('Parameters of the reference experiment:\\n',dparam)\n"
   ]
  },
  {
   "cell_type": "code",
   "execution_count": null,
   "metadata": {},
   "outputs": [],
   "source": [
    "# Load the data of the true run\n",
    "fname_truth = template_ref['truth'].format(**dparam)\n",
    "print('Load truth simulation:',fname_truth)\n",
    "data_truth = load_data(refdir,fname_truth,ftpurl=ftpurl,ftpdir=ftpdir)\n",
    "\n",
    "# Load the data of the hybrid run\n",
    "fname_hybrid = template_ref['hybrid'].format(**dparam)\n",
    "print('Load hybrid simulation:', fname_hybrid)\n",
    "data_hybrid = load_data(refdir,fname_hybrid,ftpurl=ftpurl,ftpdir=ftpdir)"
   ]
  },
  {
   "cell_type": "code",
   "execution_count": null,
   "metadata": {},
   "outputs": [],
   "source": [
    "# Format the data (the time step of the hybrid model is different from the time step of the real model)\n",
    "\n",
    "#hybrid data\n",
    "xx_hybrid = data_hybrid['xx']\n",
    "\n",
    "#chronology\n",
    "chrono_hybrid = Chronology(dkObs=1,T=data_hybrid['T'],dt=float(data_hybrid['dt']))\n",
    "chrono_truth = Chronology(dkObs=1,T=data_truth['T'],dt=float(data_truth['dt']))\n",
    "\n",
    "#Compute the time step subsample:\n",
    "dk = int(chrono_hybrid.dt/chrono_truth.dt)\n",
    "\n",
    "#Compute the size of the hybrid model stat:\n",
    "nU = xx_hybrid.shape[-1]\n",
    "\n",
    "#Subsampe the true model in space and time to fit the hybrid model space\n",
    "xx_truth = data_truth['xx'][::dk,:,:nU]\n",
    "\n",
    "#Define the time axis\n",
    "tt = chrono_hybrid.tt\n",
    "\n",
    "#Display the size of the model simulations\n",
    "print('Size of the time axis:',tt.shape)\n",
    "print('Size of the truth simulation (time step, members, space):',xx_truth.shape)\n",
    "print('Size of the hybrid simulation (time step, members, space):',xx_hybrid.shape)"
   ]
  },
  {
   "cell_type": "code",
   "execution_count": null,
   "metadata": {},
   "outputs": [],
   "source": [
    "# Plot the figure 1\n",
    "\n",
    "#Ensemble member to plot:\n",
    "iens=6\n",
    "\n",
    "#Number of time steps to plot\n",
    "limT = 600\n",
    "\n",
    "#Plot\n",
    "fig = plot_L96_2D(xx_truth[:limT,iens],xx_hybrid[:limT,iens],tt[:limT],['Truth','NN hyb.'])\n",
    "\n",
    "#Save (if needed)\n",
    "if figdir:\n",
    "    fig.savefig(os.path.join(figdir,'philtra-fig1.png'),\n",
    "            dpi=200, bbox_inches='tight', pad_inches=0)"
   ]
  }
 ],
 "metadata": {
  "kernelspec": {
   "display_name": "Python 3",
   "language": "python",
   "name": "python3"
  },
  "language_info": {
   "codemirror_mode": {
    "name": "ipython",
    "version": 3
   },
   "file_extension": ".py",
   "mimetype": "text/x-python",
   "name": "python",
   "nbconvert_exporter": "python",
   "pygments_lexer": "ipython3",
   "version": "3.7.7"
  }
 },
 "nbformat": 4,
 "nbformat_minor": 4
}
