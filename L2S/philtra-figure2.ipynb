{
 "cells": [
  {
   "cell_type": "code",
   "execution_count": 1,
   "metadata": {},
   "outputs": [
    {
     "name": "stdout",
     "output_type": "stream",
     "text": [
      "Initializing DAPPER...\n",
      "\n",
      "Warning: interactive/live plotting was requested,\n",
      "but is not supported by current backend: module://ipykernel.pylab.backend_inline.\n",
      "Try another backend in your settings, e.g., mpl.use('Qt5Agg').\n",
      "...Done\n",
      "PS: Turn off this message in your configuration: dpr_config.ini\n"
     ]
    }
   ],
   "source": [
    "# Load the python modules.\n",
    "import os, sys\n",
    "#Insert the common folder in the path (to be able to load python module)\n",
    "sys.path.insert(0,os.path.join(os.path.pardir,'common'))\n",
    "import numpy as np\n",
    "import wget\n",
    "from dapper import Chronology\n",
    "\n",
    "from toolbox import load_config, path, get_filenames, load_data, rmse_norm\n",
    "from l2s_utils import plot_L96_2D, default_param\n",
    "\n",
    "#To control plot layouts\n",
    "import seaborn as sns\n",
    "sns.set_style(\"whitegrid\")\n",
    "sns.set_context(\"paper\")\n",
    "\n",
    "from tqdm.notebook import tqdm"
   ]
  },
  {
   "cell_type": "markdown",
   "metadata": {},
   "source": [
    "# Setting\n",
    "\n",
    "## Source of the data\n",
    "The variable ```source``` can be set to ```\"ftp\"``` or ```\"local\"```.\n",
    "- ```ftp```: it will download the data from an ftp server, so there is no need to compute the data. WARNING: it will override existing data in the data simulations data directory.\n",
    "- ```local```: it will load the data locally. So you have to first either having downloaded the data from the ftp server, either having computing the data using the other notebooks.\n",
    "\n",
    "## Configuration files\n",
    "There are 4 configuration file to set. Default configuration files are provided but if you want to make further experiment, it is possible to change the configuration file.\n",
    "- ```config_path```: contains the path of the data directory.\n",
    "- ```config_ftp```: contains the url of the data in the ftp server. This configuration file is optional if you don't download the data from ftp.\n",
    "- ```config_ref```: contains the reference simulations settings.\n",
    "- ```config_sens```: contains the different settings for an sensitivity experiment."
   ]
  },
  {
   "cell_type": "code",
   "execution_count": 2,
   "metadata": {},
   "outputs": [],
   "source": [
    "#Source of the data (comment/uncomment the lines given your choice)\n",
    "#source = 'local'\n",
    "source = 'ftp'\n"
   ]
  },
  {
   "cell_type": "code",
   "execution_count": 14,
   "metadata": {},
   "outputs": [],
   "source": [
    "# Directory where to save the figure (if figdir = None, no figure are saved)\n",
    "figdir = '.'\n",
    "#figdir = None"
   ]
  },
  {
   "cell_type": "code",
   "execution_count": 4,
   "metadata": {},
   "outputs": [],
   "source": [
    "#Configuration files\n",
    "config_path = 'config/paths.yml'\n",
    "config_ftp = 'config/ftp.yml' #optional if data are generated locally\n",
    "config_ref = 'config/ref_test.yml'\n",
    "config_sens = 'config/sens_test.yml'\n",
    "config_sens_po = 'config/sens_test_po.yml'"
   ]
  },
  {
   "cell_type": "code",
   "execution_count": 5,
   "metadata": {},
   "outputs": [
    {
     "name": "stdout",
     "output_type": "stream",
     "text": [
      "Directory containing the simulations for the reference experiment:\n",
      "-> /Group/da/julaja/redda/L2S/simul/test\n"
     ]
    }
   ],
   "source": [
    "# Load the paths (yml file)\n",
    "paths = load_config(config_path)\n",
    "\n",
    "# Load the reference\n",
    "ref = load_config(config_ref)\n",
    "\n",
    "# Rootdir for the L2S data\n",
    "rootdir = path(paths['rootdir'])\n",
    "\n",
    "# Template names\n",
    "template_ref = ref['template']\n",
    "\n",
    "#Check if figdir exist and set the figdir accordingly\n",
    "savefig = bool(figdir)\n",
    "\n",
    "#Directory containing the simulations\n",
    "refdir = path(os.path.join(rootdir,ref['savedir']))\n",
    "\n",
    "#Print:\n",
    "print(\"Directory containing the simulations for the reference experiment:\\n->\",refdir)\n"
   ]
  },
  {
   "cell_type": "code",
   "execution_count": 6,
   "metadata": {},
   "outputs": [],
   "source": [
    "#Load the ftp configuration file if needed\n",
    "if source == 'ftp':\n",
    "    ftp = load_config(config_ftp)\n",
    "    ftpurl, ftpdir = ftp['url'], ftp['test']\n",
    "    print('\\033[93m'+'Warning! The source is set to ftp. \\nIt will override existing local simulation in the simulation directory'+'\\033[0m')\n",
    "else:\n",
    "    ftp = None\n",
    "    ftpurl, ftpdir = None, None"
   ]
  },
  {
   "cell_type": "markdown",
   "metadata": {},
   "source": [
    "## Plot Figure 2"
   ]
  },
  {
   "cell_type": "code",
   "execution_count": 7,
   "metadata": {},
   "outputs": [
    {
     "name": "stdout",
     "output_type": "stream",
     "text": [
      "Parameters of the sensitivity experiment:\n",
      " {'dtObs': [0.01, 0.05, 0.1, 0.15], 'std_o': [0.05, 0.1, 0.2, 0.5, 1.0, 2.0], 'std_m': [0.06], 'p': [18, 27, 36], 'seed': [10], 'Nfil_train': [1, 5], 'N': [20], 'T': [15.0]}\n",
      "Parameters of the sensitivity experiment (perfect observations):\n",
      " {'dtObs': [0.01, 0.05, 0.1, 0.15], 'std_o': [1], 'std_m': [0.06], 'p': [36], 'seed': [10], 'Nfil_train': [1], 'N': [20], 'T': [15.0]}\n"
     ]
    }
   ],
   "source": [
    "sens_da = load_config(config_sens)\n",
    "sens_po = load_config(config_sens_po)\n",
    "\n",
    "# Define the parameters\n",
    "used_parameter = { 'p', 'std_o', 'dtObs', 'std_m' ,'N','T','seed', 'Nfil_train'}\n",
    "lparam_da = {k:sens_da.get(k,[default_param[k]]) for k in used_parameter}\n",
    "lparam_po = {k:sens_po.get(k,[default_param[k]]) for k in used_parameter}\n",
    "print('Parameters of the sensitivity experiment:\\n',lparam_da)\n",
    "print('Parameters of the sensitivity experiment (perfect observations):\\n',lparam_po)\n",
    "\n",
    "# Check if the the parameter dtObs (should be the same in the sensitivity experiments with perfect obs)\n",
    "assert lparam_da['dtObs'] == lparam_po['dtObs']\n",
    "\n",
    "#load ref file\n",
    "ref = load_config(config_ref)\n",
    "\n",
    "ref_params = {k:ref.get(k,[default_param[k]]) for k in used_parameter}\n",
    "\n",
    "sensdir = path(os.path.join(rootdir,sens_da['savedir']))"
   ]
  },
  {
   "cell_type": "code",
   "execution_count": 8,
   "metadata": {},
   "outputs": [
    {
     "name": "stdout",
     "output_type": "stream",
     "text": [
      "Types of run for the experiment: dict_keys(['truth', 'trunc', 'hybrid', 'perfect'])\n"
     ]
    }
   ],
   "source": [
    "# List all the experiment with the corresponding filenames\n",
    "templates_da = {k:v for k,v in sens_da['template'].items() if k in {'truth','trunc','hybrid'}} \n",
    "templates_po = {k:v for k,v in sens_po['template'].items() if k in {'hybrid'}} \n",
    "dsens_da = get_filenames(lparam_da, templates_da)\n",
    "dsens_po = get_filenames(lparam_po, templates_po)\n",
    "\n",
    "# Change the name of the perfect hybrid model to not overide the key\n",
    "dsens_po['perfect'] = dsens_po.pop('hybrid')\n",
    "dsens = {**dsens_da,**dsens_po}\n",
    "print('Types of run for the experiment:',dsens.keys())\n"
   ]
  },
  {
   "cell_type": "code",
   "execution_count": 9,
   "metadata": {},
   "outputs": [
    {
     "name": "stdout",
     "output_type": "stream",
     "text": [
      "Data file truth:\n",
      "-> simul-truth-T15.0-N20-seed10.npz\n",
      "Data file trunc:\n",
      "-> simul-trunc-T15.0-N20-seed10.npz\n"
     ]
    }
   ],
   "source": [
    "# Load trunc/true\n",
    "\n",
    "#Set the filename (as a str) of the data\n",
    "fname = str(dsens['truth'].name.iloc[0])\n",
    "data_truth = load_data(sensdir,fname,ftpurl=ftpurl,ftpdir=ftpdir)\n",
    "\n",
    "print(\"Data file truth:\\n->\",fname)\n",
    "\n",
    "#Set the filename (as a str) of the data\n",
    "fname = str(dsens['trunc'].name.iloc[0])\n",
    "data_trunc = load_data(sensdir,fname,ftpurl=ftpurl,ftpdir=ftpdir)\n",
    "\n",
    "print(\"Data file trunc:\\n->\",fname)\n"
   ]
  },
  {
   "cell_type": "code",
   "execution_count": 10,
   "metadata": {},
   "outputs": [
    {
     "name": "stdout",
     "output_type": "stream",
     "text": [
      "Size of the time axis: (1501,)\n",
      "Size of the truth simulation (time step, members, space): (1501, 20, 36)\n",
      "Size of the trunc simulation (time step, members, space): (1501, 20, 36)\n"
     ]
    }
   ],
   "source": [
    "# Format the data (the time step of the trunc model is different from the time step of the real model)\n",
    "\n",
    "\n",
    "#Trunc data\n",
    "xx_trunc = data_trunc['xx']\n",
    "\n",
    "#chronology\n",
    "chrono_trunc = Chronology(dkObs=1,T=data_trunc['T'],dt=data_trunc['dt'])\n",
    "chrono_truth = Chronology(dkObs=1,T=data_truth['T'],dt=data_truth['dt'])\n",
    "\n",
    "#Compute the time step subsample:\n",
    "dk = int(chrono_trunc.dt/chrono_truth.dt)\n",
    "\n",
    "#Compute the size of the trunc model stat:\n",
    "nU = xx_trunc.shape[-1]\n",
    "\n",
    "#Subsampe the true model in space and time to fit the trunc model space\n",
    "xx_truth = data_truth['xx'][::dk,:,:nU]\n",
    "\n",
    "#Define the time axis\n",
    "tt = chrono_trunc.tt\n",
    "\n",
    "#Display the size of the model simulations\n",
    "print('Size of the time axis:',tt.shape)\n",
    "print('Size of the truth simulation (time step, members, space):',xx_truth.shape)\n",
    "print('Size of the trunc simulation (time step, members, space):',xx_trunc.shape)"
   ]
  },
  {
   "cell_type": "code",
   "execution_count": 11,
   "metadata": {},
   "outputs": [
    {
     "data": {
      "text/html": [
       "<div>\n",
       "<style scoped>\n",
       "    .dataframe tbody tr th:only-of-type {\n",
       "        vertical-align: middle;\n",
       "    }\n",
       "\n",
       "    .dataframe tbody tr th {\n",
       "        vertical-align: top;\n",
       "    }\n",
       "\n",
       "    .dataframe thead th {\n",
       "        text-align: right;\n",
       "    }\n",
       "</style>\n",
       "<table border=\"1\" class=\"dataframe\">\n",
       "  <thead>\n",
       "    <tr style=\"text-align: right;\">\n",
       "      <th></th>\n",
       "      <th>N</th>\n",
       "      <th>Nfil_train</th>\n",
       "      <th>T</th>\n",
       "      <th>dtObs</th>\n",
       "      <th>p</th>\n",
       "      <th>seed</th>\n",
       "      <th>std_m</th>\n",
       "      <th>std_o</th>\n",
       "      <th>name</th>\n",
       "      <th>model</th>\n",
       "    </tr>\n",
       "  </thead>\n",
       "  <tbody>\n",
       "    <tr>\n",
       "      <th>0</th>\n",
       "      <td>20</td>\n",
       "      <td>1</td>\n",
       "      <td>15.0</td>\n",
       "      <td>0.01</td>\n",
       "      <td>18</td>\n",
       "      <td>10</td>\n",
       "      <td>0.06</td>\n",
       "      <td>0.05</td>\n",
       "      <td>simul-truth-T15.0-N20-seed10.npz</td>\n",
       "      <td>truth</td>\n",
       "    </tr>\n",
       "    <tr>\n",
       "      <th>1</th>\n",
       "      <td>20</td>\n",
       "      <td>1</td>\n",
       "      <td>15.0</td>\n",
       "      <td>0.01</td>\n",
       "      <td>18</td>\n",
       "      <td>10</td>\n",
       "      <td>0.06</td>\n",
       "      <td>0.05</td>\n",
       "      <td>simul-trunc-T15.0-N20-seed10.npz</td>\n",
       "      <td>trunc</td>\n",
       "    </tr>\n",
       "    <tr>\n",
       "      <th>2</th>\n",
       "      <td>20</td>\n",
       "      <td>1</td>\n",
       "      <td>15.0</td>\n",
       "      <td>0.01</td>\n",
       "      <td>18</td>\n",
       "      <td>10</td>\n",
       "      <td>0.06</td>\n",
       "      <td>0.05</td>\n",
       "      <td>simul-hybrid-p18-dtObs0.01-std_o0.05-filter1-N...</td>\n",
       "      <td>hybrid</td>\n",
       "    </tr>\n",
       "    <tr>\n",
       "      <th>3</th>\n",
       "      <td>20</td>\n",
       "      <td>1</td>\n",
       "      <td>15.0</td>\n",
       "      <td>0.01</td>\n",
       "      <td>18</td>\n",
       "      <td>10</td>\n",
       "      <td>0.06</td>\n",
       "      <td>0.10</td>\n",
       "      <td>simul-hybrid-p18-dtObs0.01-std_o0.1-filter1-N2...</td>\n",
       "      <td>hybrid</td>\n",
       "    </tr>\n",
       "    <tr>\n",
       "      <th>4</th>\n",
       "      <td>20</td>\n",
       "      <td>1</td>\n",
       "      <td>15.0</td>\n",
       "      <td>0.01</td>\n",
       "      <td>18</td>\n",
       "      <td>10</td>\n",
       "      <td>0.06</td>\n",
       "      <td>0.20</td>\n",
       "      <td>simul-hybrid-p18-dtObs0.01-std_o0.2-filter1-N2...</td>\n",
       "      <td>hybrid</td>\n",
       "    </tr>\n",
       "    <tr>\n",
       "      <th>...</th>\n",
       "      <td>...</td>\n",
       "      <td>...</td>\n",
       "      <td>...</td>\n",
       "      <td>...</td>\n",
       "      <td>...</td>\n",
       "      <td>...</td>\n",
       "      <td>...</td>\n",
       "      <td>...</td>\n",
       "      <td>...</td>\n",
       "      <td>...</td>\n",
       "    </tr>\n",
       "    <tr>\n",
       "      <th>145</th>\n",
       "      <td>20</td>\n",
       "      <td>5</td>\n",
       "      <td>15.0</td>\n",
       "      <td>0.15</td>\n",
       "      <td>36</td>\n",
       "      <td>10</td>\n",
       "      <td>0.06</td>\n",
       "      <td>2.00</td>\n",
       "      <td>simul-hybrid-p36-dtObs0.15-std_o2.0-filter5-N2...</td>\n",
       "      <td>hybrid</td>\n",
       "    </tr>\n",
       "    <tr>\n",
       "      <th>146</th>\n",
       "      <td>20</td>\n",
       "      <td>1</td>\n",
       "      <td>15.0</td>\n",
       "      <td>0.01</td>\n",
       "      <td>36</td>\n",
       "      <td>10</td>\n",
       "      <td>0.06</td>\n",
       "      <td>1.00</td>\n",
       "      <td>simul-perfect-p36-dtObs0.01-N20-seed10.npz</td>\n",
       "      <td>perfect</td>\n",
       "    </tr>\n",
       "    <tr>\n",
       "      <th>147</th>\n",
       "      <td>20</td>\n",
       "      <td>1</td>\n",
       "      <td>15.0</td>\n",
       "      <td>0.05</td>\n",
       "      <td>36</td>\n",
       "      <td>10</td>\n",
       "      <td>0.06</td>\n",
       "      <td>1.00</td>\n",
       "      <td>simul-perfect-p36-dtObs0.05-N20-seed10.npz</td>\n",
       "      <td>perfect</td>\n",
       "    </tr>\n",
       "    <tr>\n",
       "      <th>148</th>\n",
       "      <td>20</td>\n",
       "      <td>1</td>\n",
       "      <td>15.0</td>\n",
       "      <td>0.10</td>\n",
       "      <td>36</td>\n",
       "      <td>10</td>\n",
       "      <td>0.06</td>\n",
       "      <td>1.00</td>\n",
       "      <td>simul-perfect-p36-dtObs0.1-N20-seed10.npz</td>\n",
       "      <td>perfect</td>\n",
       "    </tr>\n",
       "    <tr>\n",
       "      <th>149</th>\n",
       "      <td>20</td>\n",
       "      <td>1</td>\n",
       "      <td>15.0</td>\n",
       "      <td>0.15</td>\n",
       "      <td>36</td>\n",
       "      <td>10</td>\n",
       "      <td>0.06</td>\n",
       "      <td>1.00</td>\n",
       "      <td>simul-perfect-p36-dtObs0.15-N20-seed10.npz</td>\n",
       "      <td>perfect</td>\n",
       "    </tr>\n",
       "  </tbody>\n",
       "</table>\n",
       "<p>150 rows × 10 columns</p>\n",
       "</div>"
      ],
      "text/plain": [
       "      N  Nfil_train     T  dtObs   p  seed  std_m  std_o  \\\n",
       "0    20           1  15.0   0.01  18    10   0.06   0.05   \n",
       "1    20           1  15.0   0.01  18    10   0.06   0.05   \n",
       "2    20           1  15.0   0.01  18    10   0.06   0.05   \n",
       "3    20           1  15.0   0.01  18    10   0.06   0.10   \n",
       "4    20           1  15.0   0.01  18    10   0.06   0.20   \n",
       "..   ..         ...   ...    ...  ..   ...    ...    ...   \n",
       "145  20           5  15.0   0.15  36    10   0.06   2.00   \n",
       "146  20           1  15.0   0.01  36    10   0.06   1.00   \n",
       "147  20           1  15.0   0.05  36    10   0.06   1.00   \n",
       "148  20           1  15.0   0.10  36    10   0.06   1.00   \n",
       "149  20           1  15.0   0.15  36    10   0.06   1.00   \n",
       "\n",
       "                                                  name    model  \n",
       "0                     simul-truth-T15.0-N20-seed10.npz    truth  \n",
       "1                     simul-trunc-T15.0-N20-seed10.npz    trunc  \n",
       "2    simul-hybrid-p18-dtObs0.01-std_o0.05-filter1-N...   hybrid  \n",
       "3    simul-hybrid-p18-dtObs0.01-std_o0.1-filter1-N2...   hybrid  \n",
       "4    simul-hybrid-p18-dtObs0.01-std_o0.2-filter1-N2...   hybrid  \n",
       "..                                                 ...      ...  \n",
       "145  simul-hybrid-p36-dtObs0.15-std_o2.0-filter5-N2...   hybrid  \n",
       "146         simul-perfect-p36-dtObs0.01-N20-seed10.npz  perfect  \n",
       "147         simul-perfect-p36-dtObs0.05-N20-seed10.npz  perfect  \n",
       "148          simul-perfect-p36-dtObs0.1-N20-seed10.npz  perfect  \n",
       "149         simul-perfect-p36-dtObs0.15-N20-seed10.npz  perfect  \n",
       "\n",
       "[150 rows x 10 columns]"
      ]
     },
     "execution_count": 11,
     "metadata": {},
     "output_type": "execute_result"
    }
   ],
   "source": [
    "#Reformat DataFrame\n",
    "import pandas as pd\n",
    "\n",
    "#Add a column in the Data frame with the type of simulation\n",
    "for k in dsens:\n",
    "    dsens[k]=dsens[k].assign(model=k)\n",
    "\n",
    "#Concatenate all the dataframe in one:\n",
    "df = pd.concat([v for k,v in dsens.items()], ignore_index=True)\n",
    "df"
   ]
  },
  {
   "cell_type": "code",
   "execution_count": 12,
   "metadata": {},
   "outputs": [
    {
     "name": "stdout",
     "output_type": "stream",
     "text": [
      "->compute RMSE for the all the models (except the truth)\n"
     ]
    },
    {
     "data": {
      "application/vnd.jupyter.widget-view+json": {
       "model_id": "641ffbc478284a1ab5fea35e1e1310cb",
       "version_major": 2,
       "version_minor": 0
      },
      "text/plain": [
       "HBox(children=(FloatProgress(value=0.0, max=149.0), HTML(value='')))"
      ]
     },
     "metadata": {},
     "output_type": "display_data"
    },
    {
     "name": "stdout",
     "output_type": "stream",
     "text": [
      "\n"
     ]
    }
   ],
   "source": [
    "#Compute the RMSE os all the  simulations\n",
    "# If ftp is True, it can take some few minutes\n",
    "RMSE = dict()\n",
    "\n",
    "#Time to compute the RMSE\n",
    "it = 200\n",
    "\n",
    "df.assign(RMSE = np.nan) #Default value (changed in the loop)\n",
    "print('->compute RMSE for the all the models (except the truth)')\n",
    "for idx in tqdm(df[df.model != 'truth'].index):\n",
    "    fname = df.loc[idx,'name']\n",
    "    data = load_data(sensdir,fname,ftpurl=ftpurl,ftpdir=ftpdir)\n",
    "    xx_est = data['xx']\n",
    "    RMSE[idx] = rmse_norm(xx_truth,xx_est)\n",
    "    df.loc[idx,'RMSE'] = RMSE[idx][it]\n",
    "    data.close()\n"
   ]
  },
  {
   "cell_type": "code",
   "execution_count": 17,
   "metadata": {},
   "outputs": [
    {
     "name": "stderr",
     "output_type": "stream",
     "text": [
      "/Home/julaja/anaconda3/envs/py37/lib/python3.7/site-packages/ipykernel_launcher.py:22: MatplotlibDeprecationWarning: Case-insensitive properties were deprecated in 3.3 and support will be removed two minor releases later\n",
      "/Home/julaja/anaconda3/envs/py37/lib/python3.7/site-packages/ipykernel_launcher.py:42: MatplotlibDeprecationWarning: Case-insensitive properties were deprecated in 3.3 and support will be removed two minor releases later\n"
     ]
    },
    {
     "data": {
      "image/png": "[encoded data removed]",
      "text/plain": [
       "<Figure size 583.2x216 with 3 Axes>"
      ]
     },
     "metadata": {},
     "output_type": "display_data"
    }
   ],
   "source": [
    "#Initialise the figure\n",
    "import matplotlib.pyplot as plt\n",
    "fig, (ax, ax0,ax1) = plt.subplots(ncols=3,figsize=(8.1,3),sharey='all')\n",
    "\n",
    "\n",
    "#Plot the sensitivity to dtobs\n",
    "df_dthyb = df[(df['Nfil_train']==ref_params['Nfil_train'][0])&\n",
    "          (df['std_o']==ref_params['std_o'][0])&\n",
    "          (df['p']==ref_params['p'][0]) & (df['model']=='hybrid')\n",
    "         ]\n",
    "\n",
    "df_dtpo = df[df['model']=='perfect']\n",
    "df_trunc = df[df['model']=='trunc']\n",
    "\n",
    "x = np.arange(df_dthyb.shape[0])\n",
    "xtrunc = [len(x)]\n",
    "ax0.bar(x=x-0.2,height=df_dthyb['RMSE'],width=0.4,color='C1',label='DA hyb.');\n",
    "ax0.bar(x=x+0.2,height=df_dtpo['RMSE'],width=0.4,color='C2',label='perf.obs. hyb.');\n",
    "ax0.bar(x=xtrunc,height=df_trunc['RMSE'],width=0.4,color='C3',label='trunc.')\n",
    "ax0.set_xticks(list(x)+xtrunc);\n",
    "ax0.set_xticklabels([str(dt) for dt in df_dthyb['dtObs']]+['trunc.']);\n",
    "ax0.bar(x=x[1]-0.2,height=df_dthyb.iloc[1]['RMSE'],width=0.4,fill=False,LineWidth=2,edgecolor='black',label='ref.exp.')\n",
    "\n",
    "ax0.legend()\n",
    "ax0.set_xlabel('$\\Delta t$')\n",
    "\n",
    "#Plot the sensitivity to the filtration\n",
    "df_filhyb = df_stdo = df[(df['dtObs']==ref_params['dtObs'][0]) & \n",
    "          (df['p']==ref_params['p'][0]) &\n",
    "          (df['Nfil_train'].isin([1,5])) & (df['model']=='hybrid')\n",
    "         ]\n",
    "df_1 = df_filhyb[df_filhyb['Nfil_train']==1]\n",
    "df_5 = df_filhyb[df_filhyb['Nfil_train']==5]\n",
    "\n",
    "\n",
    "x = np.arange(df_1.shape[0])\n",
    "ax1.bar(x=x-0.2,height=df_1['RMSE'],\n",
    "        width=0.4,color='C1',label='no filter');\n",
    "ax1.bar(x=x+0.2,height=df_5['RMSE'],\n",
    "        width=0.4,color='C4',label='filter 0.05 MTU');\n",
    "ax1.bar(x=x[1]-0.2,height=df_1.iloc[1]['RMSE'],\n",
    "        width=0.4,fill=False,LineWidth=2,edgecolor='black',label='ref.exp.')\n",
    "ax1.set_xticks(x);\n",
    "ax1.set_xticklabels(['{}'.format(stdo) for stdo in df_1['std_o']]);\n",
    "ax1.set_xlabel('$\\sigma^o$')\n",
    "ax1.legend()\n",
    "\n",
    "#Plot the sensitivity to the density of observations (time series)\n",
    "#Plot the sensitivity to dtobs\n",
    "\n",
    "#Number time step to display\n",
    "limT = 800\n",
    "\n",
    "#Displayed color\n",
    "cols=['C5','C6','C1']\n",
    "\n",
    "df_phyb = df[(df['Nfil_train']==ref_params['Nfil_train'][0])&\n",
    "          (df['std_o']==ref_params['std_o'][0])&\n",
    "          (df['dtObs']==ref_params['dtObs'][0]) & \n",
    "             (df['model']=='hybrid')\n",
    "         ]\n",
    "\n",
    "df_ppo = df[(df['model']=='perfect') & \n",
    "            (df['dtObs']==ref_params['dtObs'][0])]\n",
    "\n",
    "for i,idx in enumerate(df_phyb.index):\n",
    "    ax.plot(tt[:limT],RMSE[idx][:limT],\n",
    "            label='$N_y$={}'.format(df_phyb.loc[idx,'p']),\n",
    "           color=cols[i])\n",
    "ax.plot(tt[:limT],RMSE[df_trunc.index[0]][:limT],\n",
    "        label='trunc.',color='C3',linewidth=2)\n",
    "\n",
    "ax.plot(tt[:limT],RMSE[df_ppo.index[0]][:limT],\n",
    "        label='perf. obs.',color='C2',linewidth=2)\n",
    "\n",
    "ax.legend();\n",
    "ax.set_xlabel('lead time')\n",
    "ax.set_ylabel('R-RMSE')\n",
    "if figdir:\n",
    "    fig.savefig(os.path.join(figdir,'philtra-fig2.png'),\n",
    "            dpi=200, bbox_inches='tight', pad_inches=0)\n"
   ]
  },
  {
   "cell_type": "code",
   "execution_count": null,
   "metadata": {},
   "outputs": [],
   "source": []
  }
 ],
 "metadata": {
  "kernelspec": {
   "display_name": "Python 3",
   "language": "python",
   "name": "python3"
  },
  "language_info": {
   "codemirror_mode": {
    "name": "ipython",
    "version": 3
   },
   "file_extension": ".py",
   "mimetype": "text/x-python",
   "name": "python",
   "nbconvert_exporter": "python",
   "pygments_lexer": "ipython3",
   "version": "3.7.7"
  }
 },
 "nbformat": 4,
 "nbformat_minor": 4
}
